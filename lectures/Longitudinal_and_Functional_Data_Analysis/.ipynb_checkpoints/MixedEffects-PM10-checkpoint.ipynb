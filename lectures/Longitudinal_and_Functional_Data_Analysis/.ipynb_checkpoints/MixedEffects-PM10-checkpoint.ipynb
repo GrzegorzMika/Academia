{
 "cells": [
  {
   "cell_type": "code",
   "execution_count": 1,
   "metadata": {},
   "outputs": [],
   "source": [
    "from itertools import product\n",
    "import pandas as pd\n",
    "import statsmodels.tsa.statespace.sarimax as sm\n",
    "import numpy as np\n",
    "import ray\n",
    "from numba import jit\n",
    "import os\n",
    "from collections import defaultdict\n",
    "from sklearn.cluster import DBSCAN\n",
    "from sklearn.preprocessing import StandardScaler"
   ]
  },
  {
   "cell_type": "code",
   "execution_count": 2,
   "metadata": {},
   "outputs": [],
   "source": [
    "#@ray.remote\n",
    "def fit_sarmiax(data, param, s):\n",
    "    model=sm.SARIMAX(data, order=(param[0], param[1], param[2]),\n",
    "                                            seasonal_order=(param[3], param[4], param[5], s)).fit(disp=-1)\n",
    "    return model"
   ]
  },
  {
   "cell_type": "code",
   "execution_count": 3,
   "metadata": {},
   "outputs": [],
   "source": [
    "def optimizeSARIMA(data, parameters_list, s):\n",
    "    \"\"\"\n",
    "        data - data to modelling\n",
    "        parameters_list - list with (p, q, P, Q) tuples\n",
    "        d - integration order in ARIMA model\n",
    "        D - seasonal integration order\n",
    "        s - length of season\n",
    "    \"\"\"\n",
    "   \n",
    "    results = []\n",
    "    params = []\n",
    "    i = 1\n",
    "    for param in parameters_list:\n",
    "        print('Tested {} from {}'.format(i, len(parameter_list)))\n",
    "        i+=1\n",
    "        try:\n",
    "            model= fit_sarmiax(data, param, s)\n",
    "            results.append(model.aic)\n",
    "            params.append(param)\n",
    "        except Exception as err:\n",
    "            continue\n",
    "    #results = ray.get(results)\n",
    "    #aic = [model.aic for model in results]\n",
    "    d = {'aic': results, 'paramters':parameters_list}\n",
    "    result_table = pd.DataFrame(d)\n",
    "    # sort, lower AIC crit -> better\n",
    "    result_table = result_table.sort_values(by='aic', ascending=True).reset_index(drop=True)\n",
    "    return result_table"
   ]
  },
  {
   "cell_type": "code",
   "execution_count": 4,
   "metadata": {},
   "outputs": [],
   "source": [
    "def fitSARIMAX(datas, column, installations, parametes, s):\n",
    "    #results = []\n",
    "    arparams = []\n",
    "    maparams = []\n",
    "    seasonalarparams = []\n",
    "    seasonalmaparams = []\n",
    "    i = 1\n",
    "    for installation in installations:\n",
    "        print('Fitted {} from {}'.format(i, len(installations)))\n",
    "        tmp = datas[installation]\n",
    "        model = fit_sarmiax(tmp[column], parameters, s)\n",
    "        arparams.append(model.arparams)\n",
    "        maparams.append(model.maparams)\n",
    "        seasonalarparams.append(0)\n",
    "        #seasonalarparams.append(model.seasonalarparams)\n",
    "        seasonalmaparams.append(model.seasonalmaparams)\n",
    "        #results.append(model)\n",
    "        i+=1\n",
    "    #results = ray.get(results)\n",
    "    #d = {'installations': installations, 'model': results}\n",
    "    return arparams, maparams, seasonalarparams, seasonalmaparams"
   ]
  },
  {
   "cell_type": "code",
   "execution_count": 5,
   "metadata": {},
   "outputs": [],
   "source": [
    "def prepare_data(path):\n",
    "    data = pd.read_csv(os.path.join(path, 'airly_data.csv'))\n",
    "    data.start_date = pd.to_datetime(data.start_date)\n",
    "    data = data.sort_values(by='start_date').reset_index(drop=True)\n",
    "    return data"
   ]
  },
  {
   "cell_type": "code",
   "execution_count": 6,
   "metadata": {},
   "outputs": [],
   "source": [
    "def fit_data(installation, df):\n",
    "    data = df.copy()\n",
    "    if installation == 'global':\n",
    "        data = data.groupby(data.start_date).mean().drop(['installation_id'], 1).sort_index().reset_index(drop=True)\n",
    "        return data\n",
    "    else:\n",
    "        data = data[data.installation_id == installation].set_index('start_date').sort_index().reset_index(drop=True)\n",
    "        return data"
   ]
  },
  {
   "cell_type": "code",
   "execution_count": 7,
   "metadata": {},
   "outputs": [],
   "source": [
    "def installations_data(data, installations):\n",
    "    datas = defaultdict()\n",
    "    for installation in installations:\n",
    "        datas[installation] = fit_data(installation, data)\n",
    "    return datas"
   ]
  },
  {
   "cell_type": "code",
   "execution_count": 8,
   "metadata": {},
   "outputs": [],
   "source": [
    "def installations(data):\n",
    "    return data.installation_id.drop_duplicates().tolist()"
   ]
  },
  {
   "cell_type": "code",
   "execution_count": 9,
   "metadata": {},
   "outputs": [],
   "source": [
    "#ray.init()"
   ]
  },
  {
   "cell_type": "code",
   "execution_count": 10,
   "metadata": {},
   "outputs": [
    {
     "data": {
      "text/plain": [
       "324"
      ]
     },
     "execution_count": 10,
     "metadata": {},
     "output_type": "execute_result"
    }
   ],
   "source": [
    "ps = range(1, 4)\n",
    "ds = range(0, 2)\n",
    "qs = range(0, 3)\n",
    "Ps = range(0, 3)\n",
    "Ds = range(0, 2)\n",
    "Qs = range(0, 3)\n",
    "s =  24\n",
    "# ps = range(1, 2)\n",
    "# ds = range(0, 1)\n",
    "# qs = range(1, 2)\n",
    "# Ps = range(1, 2)\n",
    "# Ds = range(0, 1)\n",
    "# Qs = range(1, 2)\n",
    "# s =  24\n",
    "parameter_list = list(product(ps, ds, qs, Ps, Ds, Qs))\n",
    "len(parameter_list)"
   ]
  },
  {
   "cell_type": "code",
   "execution_count": 11,
   "metadata": {},
   "outputs": [],
   "source": [
    "data = prepare_data('/home/grzegorz/Academia/lectures/Longitudinal_and_Functional_Data_Analysis')"
   ]
  },
  {
   "cell_type": "code",
   "execution_count": 12,
   "metadata": {},
   "outputs": [],
   "source": [
    "df = fit_data('global', data)"
   ]
  },
  {
   "cell_type": "code",
   "execution_count": null,
   "metadata": {
    "scrolled": true
   },
   "outputs": [],
   "source": [
    "%time result_table = optimizeSARIMA(df.PM10, parameter_list, s)"
   ]
  },
  {
   "cell_type": "code",
   "execution_count": 13,
   "metadata": {},
   "outputs": [
    {
     "data": {
      "text/plain": [
       "(3, 0, 1, 0, 1, 1)"
      ]
     },
     "execution_count": 13,
     "metadata": {},
     "output_type": "execute_result"
    }
   ],
   "source": [
    "# parameters = result_table.iloc[0, 1]\n",
    "parameters = (3, 0, 1, 0, 1, 1)\n",
    "parameters"
   ]
  },
  {
   "cell_type": "code",
   "execution_count": 14,
   "metadata": {},
   "outputs": [
    {
     "data": {
      "text/plain": [
       "758"
      ]
     },
     "execution_count": 14,
     "metadata": {},
     "output_type": "execute_result"
    }
   ],
   "source": [
    "installations_ids = installations(data)\n",
    "count = data.groupby('installation_id').count().sort_values(by='PM10')\n",
    "count = count[count.PM10 > 1000]\n",
    "count = count.index.tolist()\n",
    "installations_ids = list(set(installations_ids).intersection(set(count)))\n",
    "len(installations_ids)"
   ]
  },
  {
   "cell_type": "code",
   "execution_count": 15,
   "metadata": {},
   "outputs": [],
   "source": [
    "datas = installations_data(data, installations_ids)"
   ]
  },
  {
   "cell_type": "code",
   "execution_count": 16,
   "metadata": {},
   "outputs": [
    {
     "name": "stdout",
     "output_type": "stream",
     "text": [
      "Fitted 1 from 758\n",
      "Fitted 2 from 758\n",
      "Fitted 3 from 758\n",
      "Fitted 4 from 758\n",
      "Fitted 5 from 758\n",
      "Fitted 6 from 758\n",
      "Fitted 7 from 758\n",
      "Fitted 8 from 758\n",
      "Fitted 9 from 758\n",
      "Fitted 10 from 758\n",
      "Fitted 11 from 758\n",
      "Fitted 12 from 758\n"
     ]
    },
    {
     "name": "stderr",
     "output_type": "stream",
     "text": [
      "/home/grzegorz/anaconda3/envs/hpc/lib/python3.6/site-packages/statsmodels/base/model.py:512: ConvergenceWarning: Maximum Likelihood optimization failed to converge. Check mle_retvals\n",
      "  \"Check mle_retvals\", ConvergenceWarning)\n"
     ]
    },
    {
     "name": "stdout",
     "output_type": "stream",
     "text": [
      "Fitted 13 from 758\n",
      "Fitted 14 from 758\n",
      "Fitted 15 from 758\n",
      "Fitted 16 from 758\n",
      "Fitted 17 from 758\n",
      "Fitted 18 from 758\n",
      "Fitted 19 from 758\n",
      "Fitted 20 from 758\n",
      "Fitted 21 from 758\n",
      "Fitted 22 from 758\n",
      "Fitted 23 from 758\n",
      "Fitted 24 from 758\n",
      "Fitted 25 from 758\n",
      "Fitted 26 from 758\n",
      "Fitted 27 from 758\n",
      "Fitted 28 from 758\n",
      "Fitted 29 from 758\n"
     ]
    },
    {
     "name": "stderr",
     "output_type": "stream",
     "text": [
      "/home/grzegorz/anaconda3/envs/hpc/lib/python3.6/site-packages/statsmodels/base/model.py:512: ConvergenceWarning: Maximum Likelihood optimization failed to converge. Check mle_retvals\n",
      "  \"Check mle_retvals\", ConvergenceWarning)\n"
     ]
    },
    {
     "name": "stdout",
     "output_type": "stream",
     "text": [
      "Fitted 30 from 758\n",
      "Fitted 31 from 758\n",
      "Fitted 32 from 758\n",
      "Fitted 33 from 758\n",
      "Fitted 34 from 758\n",
      "Fitted 35 from 758\n",
      "Fitted 36 from 758\n",
      "Fitted 37 from 758\n",
      "Fitted 38 from 758\n",
      "Fitted 39 from 758\n",
      "Fitted 40 from 758\n",
      "Fitted 41 from 758\n",
      "Fitted 42 from 758\n",
      "Fitted 43 from 758\n",
      "Fitted 44 from 758\n",
      "Fitted 45 from 758\n",
      "Fitted 46 from 758\n",
      "Fitted 47 from 758\n",
      "Fitted 48 from 758\n",
      "Fitted 49 from 758\n",
      "Fitted 50 from 758\n",
      "Fitted 51 from 758\n",
      "Fitted 52 from 758\n",
      "Fitted 53 from 758\n",
      "Fitted 54 from 758\n",
      "Fitted 55 from 758\n",
      "Fitted 56 from 758\n",
      "Fitted 57 from 758\n",
      "Fitted 58 from 758\n",
      "Fitted 59 from 758\n",
      "Fitted 60 from 758\n"
     ]
    },
    {
     "name": "stderr",
     "output_type": "stream",
     "text": [
      "/home/grzegorz/anaconda3/envs/hpc/lib/python3.6/site-packages/statsmodels/base/model.py:512: ConvergenceWarning: Maximum Likelihood optimization failed to converge. Check mle_retvals\n",
      "  \"Check mle_retvals\", ConvergenceWarning)\n"
     ]
    },
    {
     "name": "stdout",
     "output_type": "stream",
     "text": [
      "Fitted 61 from 758\n",
      "Fitted 62 from 758\n"
     ]
    },
    {
     "name": "stderr",
     "output_type": "stream",
     "text": [
      "/home/grzegorz/anaconda3/envs/hpc/lib/python3.6/site-packages/statsmodels/base/model.py:512: ConvergenceWarning: Maximum Likelihood optimization failed to converge. Check mle_retvals\n",
      "  \"Check mle_retvals\", ConvergenceWarning)\n"
     ]
    },
    {
     "name": "stdout",
     "output_type": "stream",
     "text": [
      "Fitted 63 from 758\n",
      "Fitted 64 from 758\n",
      "Fitted 65 from 758\n",
      "Fitted 66 from 758\n",
      "Fitted 67 from 758\n",
      "Fitted 68 from 758\n",
      "Fitted 69 from 758\n",
      "Fitted 70 from 758\n",
      "Fitted 71 from 758\n",
      "Fitted 72 from 758\n",
      "Fitted 73 from 758\n",
      "Fitted 74 from 758\n",
      "Fitted 75 from 758\n",
      "Fitted 76 from 758\n",
      "Fitted 77 from 758\n"
     ]
    },
    {
     "name": "stderr",
     "output_type": "stream",
     "text": [
      "/home/grzegorz/anaconda3/envs/hpc/lib/python3.6/site-packages/statsmodels/base/model.py:512: ConvergenceWarning: Maximum Likelihood optimization failed to converge. Check mle_retvals\n",
      "  \"Check mle_retvals\", ConvergenceWarning)\n"
     ]
    },
    {
     "name": "stdout",
     "output_type": "stream",
     "text": [
      "Fitted 78 from 758\n"
     ]
    },
    {
     "name": "stderr",
     "output_type": "stream",
     "text": [
      "/home/grzegorz/anaconda3/envs/hpc/lib/python3.6/site-packages/statsmodels/base/model.py:512: ConvergenceWarning: Maximum Likelihood optimization failed to converge. Check mle_retvals\n",
      "  \"Check mle_retvals\", ConvergenceWarning)\n"
     ]
    },
    {
     "name": "stdout",
     "output_type": "stream",
     "text": [
      "Fitted 79 from 758\n"
     ]
    },
    {
     "name": "stderr",
     "output_type": "stream",
     "text": [
      "/home/grzegorz/anaconda3/envs/hpc/lib/python3.6/site-packages/statsmodels/base/model.py:512: ConvergenceWarning: Maximum Likelihood optimization failed to converge. Check mle_retvals\n",
      "  \"Check mle_retvals\", ConvergenceWarning)\n"
     ]
    },
    {
     "name": "stdout",
     "output_type": "stream",
     "text": [
      "Fitted 80 from 758\n",
      "Fitted 81 from 758\n",
      "Fitted 82 from 758\n",
      "Fitted 83 from 758\n",
      "Fitted 84 from 758\n",
      "Fitted 85 from 758\n"
     ]
    },
    {
     "name": "stderr",
     "output_type": "stream",
     "text": [
      "/home/grzegorz/anaconda3/envs/hpc/lib/python3.6/site-packages/statsmodels/base/model.py:512: ConvergenceWarning: Maximum Likelihood optimization failed to converge. Check mle_retvals\n",
      "  \"Check mle_retvals\", ConvergenceWarning)\n"
     ]
    },
    {
     "name": "stdout",
     "output_type": "stream",
     "text": [
      "Fitted 86 from 758\n",
      "Fitted 87 from 758\n",
      "Fitted 88 from 758\n",
      "Fitted 89 from 758\n",
      "Fitted 90 from 758\n"
     ]
    },
    {
     "name": "stderr",
     "output_type": "stream",
     "text": [
      "/home/grzegorz/anaconda3/envs/hpc/lib/python3.6/site-packages/statsmodels/base/model.py:512: ConvergenceWarning: Maximum Likelihood optimization failed to converge. Check mle_retvals\n",
      "  \"Check mle_retvals\", ConvergenceWarning)\n"
     ]
    },
    {
     "name": "stdout",
     "output_type": "stream",
     "text": [
      "Fitted 91 from 758\n",
      "Fitted 92 from 758\n",
      "Fitted 93 from 758\n",
      "Fitted 94 from 758\n",
      "Fitted 95 from 758\n",
      "Fitted 96 from 758\n"
     ]
    },
    {
     "name": "stderr",
     "output_type": "stream",
     "text": [
      "/home/grzegorz/anaconda3/envs/hpc/lib/python3.6/site-packages/statsmodels/base/model.py:512: ConvergenceWarning: Maximum Likelihood optimization failed to converge. Check mle_retvals\n",
      "  \"Check mle_retvals\", ConvergenceWarning)\n"
     ]
    },
    {
     "name": "stdout",
     "output_type": "stream",
     "text": [
      "Fitted 97 from 758\n",
      "Fitted 98 from 758\n",
      "Fitted 99 from 758\n",
      "Fitted 100 from 758\n",
      "Fitted 101 from 758\n"
     ]
    },
    {
     "name": "stderr",
     "output_type": "stream",
     "text": [
      "/home/grzegorz/anaconda3/envs/hpc/lib/python3.6/site-packages/statsmodels/base/model.py:512: ConvergenceWarning: Maximum Likelihood optimization failed to converge. Check mle_retvals\n",
      "  \"Check mle_retvals\", ConvergenceWarning)\n"
     ]
    },
    {
     "name": "stdout",
     "output_type": "stream",
     "text": [
      "Fitted 102 from 758\n",
      "Fitted 103 from 758\n",
      "Fitted 104 from 758\n",
      "Fitted 105 from 758\n",
      "Fitted 106 from 758\n",
      "Fitted 107 from 758\n",
      "Fitted 108 from 758\n",
      "Fitted 109 from 758\n",
      "Fitted 110 from 758\n",
      "Fitted 111 from 758\n",
      "Fitted 112 from 758\n",
      "Fitted 113 from 758\n",
      "Fitted 114 from 758\n",
      "Fitted 115 from 758\n",
      "Fitted 116 from 758\n",
      "Fitted 117 from 758\n",
      "Fitted 118 from 758\n",
      "Fitted 119 from 758\n",
      "Fitted 120 from 758\n",
      "Fitted 121 from 758\n",
      "Fitted 122 from 758\n",
      "Fitted 123 from 758\n",
      "Fitted 124 from 758\n",
      "Fitted 125 from 758\n",
      "Fitted 126 from 758\n",
      "Fitted 127 from 758\n",
      "Fitted 128 from 758\n",
      "Fitted 129 from 758\n",
      "Fitted 130 from 758\n",
      "Fitted 131 from 758\n",
      "Fitted 132 from 758\n",
      "Fitted 133 from 758\n",
      "Fitted 134 from 758\n",
      "Fitted 135 from 758\n",
      "Fitted 136 from 758\n",
      "Fitted 137 from 758\n",
      "Fitted 138 from 758\n",
      "Fitted 139 from 758\n",
      "Fitted 140 from 758\n",
      "Fitted 141 from 758\n",
      "Fitted 142 from 758\n",
      "Fitted 143 from 758\n",
      "Fitted 144 from 758\n",
      "Fitted 145 from 758\n",
      "Fitted 146 from 758\n",
      "Fitted 147 from 758\n",
      "Fitted 148 from 758\n"
     ]
    },
    {
     "name": "stderr",
     "output_type": "stream",
     "text": [
      "/home/grzegorz/anaconda3/envs/hpc/lib/python3.6/site-packages/statsmodels/base/model.py:512: ConvergenceWarning: Maximum Likelihood optimization failed to converge. Check mle_retvals\n",
      "  \"Check mle_retvals\", ConvergenceWarning)\n"
     ]
    },
    {
     "name": "stdout",
     "output_type": "stream",
     "text": [
      "Fitted 149 from 758\n"
     ]
    },
    {
     "name": "stderr",
     "output_type": "stream",
     "text": [
      "/home/grzegorz/anaconda3/envs/hpc/lib/python3.6/site-packages/statsmodels/base/model.py:512: ConvergenceWarning: Maximum Likelihood optimization failed to converge. Check mle_retvals\n",
      "  \"Check mle_retvals\", ConvergenceWarning)\n"
     ]
    },
    {
     "name": "stdout",
     "output_type": "stream",
     "text": [
      "Fitted 150 from 758\n",
      "Fitted 151 from 758\n",
      "Fitted 152 from 758\n",
      "Fitted 153 from 758\n",
      "Fitted 154 from 758\n",
      "Fitted 155 from 758\n",
      "Fitted 156 from 758\n",
      "Fitted 157 from 758\n",
      "Fitted 158 from 758\n",
      "Fitted 159 from 758\n",
      "Fitted 160 from 758\n",
      "Fitted 161 from 758\n",
      "Fitted 162 from 758\n",
      "Fitted 163 from 758\n"
     ]
    },
    {
     "name": "stderr",
     "output_type": "stream",
     "text": [
      "/home/grzegorz/anaconda3/envs/hpc/lib/python3.6/site-packages/statsmodels/base/model.py:512: ConvergenceWarning: Maximum Likelihood optimization failed to converge. Check mle_retvals\n",
      "  \"Check mle_retvals\", ConvergenceWarning)\n"
     ]
    },
    {
     "name": "stdout",
     "output_type": "stream",
     "text": [
      "Fitted 164 from 758\n",
      "Fitted 165 from 758\n",
      "Fitted 166 from 758\n",
      "Fitted 167 from 758\n",
      "Fitted 168 from 758\n",
      "Fitted 169 from 758\n",
      "Fitted 170 from 758\n"
     ]
    },
    {
     "name": "stderr",
     "output_type": "stream",
     "text": [
      "/home/grzegorz/anaconda3/envs/hpc/lib/python3.6/site-packages/statsmodels/base/model.py:512: ConvergenceWarning: Maximum Likelihood optimization failed to converge. Check mle_retvals\n",
      "  \"Check mle_retvals\", ConvergenceWarning)\n"
     ]
    },
    {
     "name": "stdout",
     "output_type": "stream",
     "text": [
      "Fitted 171 from 758\n",
      "Fitted 172 from 758\n",
      "Fitted 173 from 758\n",
      "Fitted 174 from 758\n"
     ]
    },
    {
     "name": "stderr",
     "output_type": "stream",
     "text": [
      "/home/grzegorz/anaconda3/envs/hpc/lib/python3.6/site-packages/statsmodels/base/model.py:512: ConvergenceWarning: Maximum Likelihood optimization failed to converge. Check mle_retvals\n",
      "  \"Check mle_retvals\", ConvergenceWarning)\n"
     ]
    },
    {
     "name": "stdout",
     "output_type": "stream",
     "text": [
      "Fitted 175 from 758\n",
      "Fitted 176 from 758\n",
      "Fitted 177 from 758\n",
      "Fitted 178 from 758\n",
      "Fitted 179 from 758\n",
      "Fitted 180 from 758\n",
      "Fitted 181 from 758\n"
     ]
    },
    {
     "name": "stderr",
     "output_type": "stream",
     "text": [
      "/home/grzegorz/anaconda3/envs/hpc/lib/python3.6/site-packages/statsmodels/base/model.py:512: ConvergenceWarning: Maximum Likelihood optimization failed to converge. Check mle_retvals\n",
      "  \"Check mle_retvals\", ConvergenceWarning)\n"
     ]
    },
    {
     "name": "stdout",
     "output_type": "stream",
     "text": [
      "Fitted 182 from 758\n",
      "Fitted 183 from 758\n",
      "Fitted 184 from 758\n"
     ]
    },
    {
     "name": "stderr",
     "output_type": "stream",
     "text": [
      "/home/grzegorz/anaconda3/envs/hpc/lib/python3.6/site-packages/statsmodels/base/model.py:512: ConvergenceWarning: Maximum Likelihood optimization failed to converge. Check mle_retvals\n",
      "  \"Check mle_retvals\", ConvergenceWarning)\n"
     ]
    },
    {
     "name": "stdout",
     "output_type": "stream",
     "text": [
      "Fitted 185 from 758\n",
      "Fitted 186 from 758\n",
      "Fitted 187 from 758\n",
      "Fitted 188 from 758\n",
      "Fitted 189 from 758\n",
      "Fitted 190 from 758\n",
      "Fitted 191 from 758\n",
      "Fitted 192 from 758\n",
      "Fitted 193 from 758\n",
      "Fitted 194 from 758\n",
      "Fitted 195 from 758\n",
      "Fitted 196 from 758\n",
      "Fitted 197 from 758\n",
      "Fitted 198 from 758\n",
      "Fitted 199 from 758\n",
      "Fitted 200 from 758\n",
      "Fitted 201 from 758\n",
      "Fitted 202 from 758\n",
      "Fitted 203 from 758\n",
      "Fitted 204 from 758\n",
      "Fitted 205 from 758\n"
     ]
    },
    {
     "name": "stderr",
     "output_type": "stream",
     "text": [
      "/home/grzegorz/anaconda3/envs/hpc/lib/python3.6/site-packages/statsmodels/base/model.py:512: ConvergenceWarning: Maximum Likelihood optimization failed to converge. Check mle_retvals\n",
      "  \"Check mle_retvals\", ConvergenceWarning)\n"
     ]
    },
    {
     "name": "stdout",
     "output_type": "stream",
     "text": [
      "Fitted 206 from 758\n",
      "Fitted 207 from 758\n",
      "Fitted 208 from 758\n",
      "Fitted 209 from 758\n",
      "Fitted 210 from 758\n",
      "Fitted 211 from 758\n",
      "Fitted 212 from 758\n",
      "Fitted 213 from 758\n",
      "Fitted 214 from 758\n",
      "Fitted 215 from 758\n"
     ]
    },
    {
     "name": "stderr",
     "output_type": "stream",
     "text": [
      "/home/grzegorz/anaconda3/envs/hpc/lib/python3.6/site-packages/statsmodels/base/model.py:512: ConvergenceWarning: Maximum Likelihood optimization failed to converge. Check mle_retvals\n",
      "  \"Check mle_retvals\", ConvergenceWarning)\n"
     ]
    },
    {
     "name": "stdout",
     "output_type": "stream",
     "text": [
      "Fitted 216 from 758\n",
      "Fitted 217 from 758\n",
      "Fitted 218 from 758\n",
      "Fitted 219 from 758\n",
      "Fitted 220 from 758\n",
      "Fitted 221 from 758\n"
     ]
    },
    {
     "name": "stderr",
     "output_type": "stream",
     "text": [
      "/home/grzegorz/anaconda3/envs/hpc/lib/python3.6/site-packages/statsmodels/base/model.py:512: ConvergenceWarning: Maximum Likelihood optimization failed to converge. Check mle_retvals\n",
      "  \"Check mle_retvals\", ConvergenceWarning)\n"
     ]
    },
    {
     "name": "stdout",
     "output_type": "stream",
     "text": [
      "Fitted 222 from 758\n"
     ]
    },
    {
     "name": "stderr",
     "output_type": "stream",
     "text": [
      "/home/grzegorz/anaconda3/envs/hpc/lib/python3.6/site-packages/statsmodels/base/model.py:512: ConvergenceWarning: Maximum Likelihood optimization failed to converge. Check mle_retvals\n",
      "  \"Check mle_retvals\", ConvergenceWarning)\n"
     ]
    },
    {
     "name": "stdout",
     "output_type": "stream",
     "text": [
      "Fitted 223 from 758\n"
     ]
    },
    {
     "name": "stderr",
     "output_type": "stream",
     "text": [
      "/home/grzegorz/anaconda3/envs/hpc/lib/python3.6/site-packages/statsmodels/base/model.py:512: ConvergenceWarning: Maximum Likelihood optimization failed to converge. Check mle_retvals\n",
      "  \"Check mle_retvals\", ConvergenceWarning)\n"
     ]
    },
    {
     "name": "stdout",
     "output_type": "stream",
     "text": [
      "Fitted 224 from 758\n",
      "Fitted 225 from 758\n",
      "Fitted 226 from 758\n",
      "Fitted 227 from 758\n",
      "Fitted 228 from 758\n"
     ]
    },
    {
     "name": "stderr",
     "output_type": "stream",
     "text": [
      "/home/grzegorz/anaconda3/envs/hpc/lib/python3.6/site-packages/statsmodels/base/model.py:512: ConvergenceWarning: Maximum Likelihood optimization failed to converge. Check mle_retvals\n",
      "  \"Check mle_retvals\", ConvergenceWarning)\n"
     ]
    },
    {
     "name": "stdout",
     "output_type": "stream",
     "text": [
      "Fitted 229 from 758\n",
      "Fitted 230 from 758\n",
      "Fitted 231 from 758\n",
      "Fitted 232 from 758\n",
      "Fitted 233 from 758\n",
      "Fitted 234 from 758\n"
     ]
    },
    {
     "name": "stderr",
     "output_type": "stream",
     "text": [
      "/home/grzegorz/anaconda3/envs/hpc/lib/python3.6/site-packages/statsmodels/base/model.py:512: ConvergenceWarning: Maximum Likelihood optimization failed to converge. Check mle_retvals\n",
      "  \"Check mle_retvals\", ConvergenceWarning)\n"
     ]
    },
    {
     "name": "stdout",
     "output_type": "stream",
     "text": [
      "Fitted 235 from 758\n",
      "Fitted 236 from 758\n",
      "Fitted 237 from 758\n",
      "Fitted 238 from 758\n",
      "Fitted 239 from 758\n",
      "Fitted 240 from 758\n",
      "Fitted 241 from 758\n"
     ]
    },
    {
     "name": "stderr",
     "output_type": "stream",
     "text": [
      "/home/grzegorz/anaconda3/envs/hpc/lib/python3.6/site-packages/statsmodels/base/model.py:512: ConvergenceWarning: Maximum Likelihood optimization failed to converge. Check mle_retvals\n",
      "  \"Check mle_retvals\", ConvergenceWarning)\n"
     ]
    },
    {
     "name": "stdout",
     "output_type": "stream",
     "text": [
      "Fitted 242 from 758\n",
      "Fitted 243 from 758\n"
     ]
    },
    {
     "name": "stderr",
     "output_type": "stream",
     "text": [
      "/home/grzegorz/anaconda3/envs/hpc/lib/python3.6/site-packages/statsmodels/base/model.py:512: ConvergenceWarning: Maximum Likelihood optimization failed to converge. Check mle_retvals\n",
      "  \"Check mle_retvals\", ConvergenceWarning)\n"
     ]
    },
    {
     "name": "stdout",
     "output_type": "stream",
     "text": [
      "Fitted 244 from 758\n",
      "Fitted 245 from 758\n",
      "Fitted 246 from 758\n",
      "Fitted 247 from 758\n",
      "Fitted 248 from 758\n",
      "Fitted 249 from 758\n",
      "Fitted 250 from 758\n",
      "Fitted 251 from 758\n"
     ]
    },
    {
     "name": "stderr",
     "output_type": "stream",
     "text": [
      "/home/grzegorz/anaconda3/envs/hpc/lib/python3.6/site-packages/statsmodels/base/model.py:512: ConvergenceWarning: Maximum Likelihood optimization failed to converge. Check mle_retvals\n",
      "  \"Check mle_retvals\", ConvergenceWarning)\n"
     ]
    },
    {
     "name": "stdout",
     "output_type": "stream",
     "text": [
      "Fitted 252 from 758\n",
      "Fitted 253 from 758\n",
      "Fitted 254 from 758\n",
      "Fitted 255 from 758\n",
      "Fitted 256 from 758\n"
     ]
    },
    {
     "name": "stderr",
     "output_type": "stream",
     "text": [
      "/home/grzegorz/anaconda3/envs/hpc/lib/python3.6/site-packages/statsmodels/base/model.py:512: ConvergenceWarning: Maximum Likelihood optimization failed to converge. Check mle_retvals\n",
      "  \"Check mle_retvals\", ConvergenceWarning)\n"
     ]
    },
    {
     "name": "stdout",
     "output_type": "stream",
     "text": [
      "Fitted 257 from 758\n",
      "Fitted 258 from 758\n",
      "Fitted 259 from 758\n",
      "Fitted 260 from 758\n",
      "Fitted 261 from 758\n"
     ]
    },
    {
     "name": "stderr",
     "output_type": "stream",
     "text": [
      "/home/grzegorz/anaconda3/envs/hpc/lib/python3.6/site-packages/statsmodels/base/model.py:512: ConvergenceWarning: Maximum Likelihood optimization failed to converge. Check mle_retvals\n",
      "  \"Check mle_retvals\", ConvergenceWarning)\n"
     ]
    },
    {
     "name": "stdout",
     "output_type": "stream",
     "text": [
      "Fitted 262 from 758\n",
      "Fitted 263 from 758\n",
      "Fitted 264 from 758\n",
      "Fitted 265 from 758\n"
     ]
    },
    {
     "name": "stderr",
     "output_type": "stream",
     "text": [
      "/home/grzegorz/anaconda3/envs/hpc/lib/python3.6/site-packages/statsmodels/base/model.py:512: ConvergenceWarning: Maximum Likelihood optimization failed to converge. Check mle_retvals\n",
      "  \"Check mle_retvals\", ConvergenceWarning)\n"
     ]
    },
    {
     "name": "stdout",
     "output_type": "stream",
     "text": [
      "Fitted 266 from 758\n",
      "Fitted 267 from 758\n",
      "Fitted 268 from 758\n",
      "Fitted 269 from 758\n",
      "Fitted 270 from 758\n",
      "Fitted 271 from 758\n",
      "Fitted 272 from 758\n",
      "Fitted 273 from 758\n",
      "Fitted 274 from 758\n",
      "Fitted 275 from 758\n",
      "Fitted 276 from 758\n",
      "Fitted 277 from 758\n",
      "Fitted 278 from 758\n",
      "Fitted 279 from 758\n",
      "Fitted 280 from 758\n",
      "Fitted 281 from 758\n",
      "Fitted 282 from 758\n",
      "Fitted 283 from 758\n",
      "Fitted 284 from 758\n",
      "Fitted 285 from 758\n",
      "Fitted 286 from 758\n",
      "Fitted 287 from 758\n",
      "Fitted 288 from 758\n",
      "Fitted 289 from 758\n",
      "Fitted 290 from 758\n"
     ]
    },
    {
     "name": "stderr",
     "output_type": "stream",
     "text": [
      "/home/grzegorz/anaconda3/envs/hpc/lib/python3.6/site-packages/statsmodels/base/model.py:512: ConvergenceWarning: Maximum Likelihood optimization failed to converge. Check mle_retvals\n",
      "  \"Check mle_retvals\", ConvergenceWarning)\n"
     ]
    },
    {
     "name": "stdout",
     "output_type": "stream",
     "text": [
      "Fitted 291 from 758\n",
      "Fitted 292 from 758\n",
      "Fitted 293 from 758\n",
      "Fitted 294 from 758\n",
      "Fitted 295 from 758\n",
      "Fitted 296 from 758\n",
      "Fitted 297 from 758\n",
      "Fitted 298 from 758\n"
     ]
    },
    {
     "name": "stderr",
     "output_type": "stream",
     "text": [
      "/home/grzegorz/anaconda3/envs/hpc/lib/python3.6/site-packages/statsmodels/base/model.py:512: ConvergenceWarning: Maximum Likelihood optimization failed to converge. Check mle_retvals\n",
      "  \"Check mle_retvals\", ConvergenceWarning)\n"
     ]
    },
    {
     "name": "stdout",
     "output_type": "stream",
     "text": [
      "Fitted 299 from 758\n",
      "Fitted 300 from 758\n",
      "Fitted 301 from 758\n",
      "Fitted 302 from 758\n",
      "Fitted 303 from 758\n",
      "Fitted 304 from 758\n",
      "Fitted 305 from 758\n",
      "Fitted 306 from 758\n"
     ]
    },
    {
     "name": "stderr",
     "output_type": "stream",
     "text": [
      "/home/grzegorz/anaconda3/envs/hpc/lib/python3.6/site-packages/statsmodels/base/model.py:512: ConvergenceWarning: Maximum Likelihood optimization failed to converge. Check mle_retvals\n",
      "  \"Check mle_retvals\", ConvergenceWarning)\n"
     ]
    },
    {
     "name": "stdout",
     "output_type": "stream",
     "text": [
      "Fitted 307 from 758\n"
     ]
    },
    {
     "name": "stderr",
     "output_type": "stream",
     "text": [
      "/home/grzegorz/anaconda3/envs/hpc/lib/python3.6/site-packages/statsmodels/base/model.py:512: ConvergenceWarning: Maximum Likelihood optimization failed to converge. Check mle_retvals\n",
      "  \"Check mle_retvals\", ConvergenceWarning)\n"
     ]
    },
    {
     "name": "stdout",
     "output_type": "stream",
     "text": [
      "Fitted 308 from 758\n"
     ]
    },
    {
     "name": "stderr",
     "output_type": "stream",
     "text": [
      "/home/grzegorz/anaconda3/envs/hpc/lib/python3.6/site-packages/statsmodels/base/model.py:512: ConvergenceWarning: Maximum Likelihood optimization failed to converge. Check mle_retvals\n",
      "  \"Check mle_retvals\", ConvergenceWarning)\n"
     ]
    },
    {
     "name": "stdout",
     "output_type": "stream",
     "text": [
      "Fitted 309 from 758\n",
      "Fitted 310 from 758\n",
      "Fitted 311 from 758\n",
      "Fitted 312 from 758\n",
      "Fitted 313 from 758\n",
      "Fitted 314 from 758\n",
      "Fitted 315 from 758\n",
      "Fitted 316 from 758\n",
      "Fitted 317 from 758\n",
      "Fitted 318 from 758\n"
     ]
    },
    {
     "name": "stderr",
     "output_type": "stream",
     "text": [
      "/home/grzegorz/anaconda3/envs/hpc/lib/python3.6/site-packages/statsmodels/base/model.py:512: ConvergenceWarning: Maximum Likelihood optimization failed to converge. Check mle_retvals\n",
      "  \"Check mle_retvals\", ConvergenceWarning)\n"
     ]
    },
    {
     "name": "stdout",
     "output_type": "stream",
     "text": [
      "Fitted 319 from 758\n",
      "Fitted 320 from 758\n",
      "Fitted 321 from 758\n",
      "Fitted 322 from 758\n",
      "Fitted 323 from 758\n",
      "Fitted 324 from 758\n",
      "Fitted 325 from 758\n",
      "Fitted 326 from 758\n",
      "Fitted 327 from 758\n"
     ]
    },
    {
     "name": "stderr",
     "output_type": "stream",
     "text": [
      "/home/grzegorz/anaconda3/envs/hpc/lib/python3.6/site-packages/statsmodels/base/model.py:512: ConvergenceWarning: Maximum Likelihood optimization failed to converge. Check mle_retvals\n",
      "  \"Check mle_retvals\", ConvergenceWarning)\n"
     ]
    },
    {
     "name": "stdout",
     "output_type": "stream",
     "text": [
      "Fitted 328 from 758\n",
      "Fitted 329 from 758\n",
      "Fitted 330 from 758\n",
      "Fitted 331 from 758\n",
      "Fitted 332 from 758\n",
      "Fitted 333 from 758\n",
      "Fitted 334 from 758\n"
     ]
    },
    {
     "name": "stderr",
     "output_type": "stream",
     "text": [
      "/home/grzegorz/anaconda3/envs/hpc/lib/python3.6/site-packages/statsmodels/base/model.py:512: ConvergenceWarning: Maximum Likelihood optimization failed to converge. Check mle_retvals\n",
      "  \"Check mle_retvals\", ConvergenceWarning)\n"
     ]
    },
    {
     "name": "stdout",
     "output_type": "stream",
     "text": [
      "Fitted 335 from 758\n"
     ]
    },
    {
     "name": "stderr",
     "output_type": "stream",
     "text": [
      "/home/grzegorz/anaconda3/envs/hpc/lib/python3.6/site-packages/statsmodels/base/model.py:512: ConvergenceWarning: Maximum Likelihood optimization failed to converge. Check mle_retvals\n",
      "  \"Check mle_retvals\", ConvergenceWarning)\n"
     ]
    },
    {
     "name": "stdout",
     "output_type": "stream",
     "text": [
      "Fitted 336 from 758\n",
      "Fitted 337 from 758\n",
      "Fitted 338 from 758\n",
      "Fitted 339 from 758\n",
      "Fitted 340 from 758\n",
      "Fitted 341 from 758\n"
     ]
    },
    {
     "name": "stderr",
     "output_type": "stream",
     "text": [
      "/home/grzegorz/anaconda3/envs/hpc/lib/python3.6/site-packages/statsmodels/base/model.py:512: ConvergenceWarning: Maximum Likelihood optimization failed to converge. Check mle_retvals\n",
      "  \"Check mle_retvals\", ConvergenceWarning)\n"
     ]
    },
    {
     "name": "stdout",
     "output_type": "stream",
     "text": [
      "Fitted 342 from 758\n",
      "Fitted 343 from 758\n",
      "Fitted 344 from 758\n",
      "Fitted 345 from 758\n",
      "Fitted 346 from 758\n",
      "Fitted 347 from 758\n",
      "Fitted 348 from 758\n",
      "Fitted 349 from 758\n",
      "Fitted 350 from 758\n",
      "Fitted 351 from 758\n",
      "Fitted 352 from 758\n",
      "Fitted 353 from 758\n",
      "Fitted 354 from 758\n",
      "Fitted 355 from 758\n",
      "Fitted 356 from 758\n",
      "Fitted 357 from 758\n",
      "Fitted 358 from 758\n",
      "Fitted 359 from 758\n",
      "Fitted 360 from 758\n",
      "Fitted 361 from 758\n",
      "Fitted 362 from 758\n",
      "Fitted 363 from 758\n",
      "Fitted 364 from 758\n",
      "Fitted 365 from 758\n"
     ]
    },
    {
     "name": "stderr",
     "output_type": "stream",
     "text": [
      "/home/grzegorz/anaconda3/envs/hpc/lib/python3.6/site-packages/statsmodels/base/model.py:512: ConvergenceWarning: Maximum Likelihood optimization failed to converge. Check mle_retvals\n",
      "  \"Check mle_retvals\", ConvergenceWarning)\n"
     ]
    },
    {
     "name": "stdout",
     "output_type": "stream",
     "text": [
      "Fitted 366 from 758\n"
     ]
    },
    {
     "name": "stderr",
     "output_type": "stream",
     "text": [
      "/home/grzegorz/anaconda3/envs/hpc/lib/python3.6/site-packages/statsmodels/base/model.py:512: ConvergenceWarning: Maximum Likelihood optimization failed to converge. Check mle_retvals\n",
      "  \"Check mle_retvals\", ConvergenceWarning)\n"
     ]
    },
    {
     "name": "stdout",
     "output_type": "stream",
     "text": [
      "Fitted 367 from 758\n",
      "Fitted 368 from 758\n",
      "Fitted 369 from 758\n",
      "Fitted 370 from 758\n",
      "Fitted 371 from 758\n",
      "Fitted 372 from 758\n",
      "Fitted 373 from 758\n"
     ]
    },
    {
     "name": "stderr",
     "output_type": "stream",
     "text": [
      "/home/grzegorz/anaconda3/envs/hpc/lib/python3.6/site-packages/statsmodels/base/model.py:512: ConvergenceWarning: Maximum Likelihood optimization failed to converge. Check mle_retvals\n",
      "  \"Check mle_retvals\", ConvergenceWarning)\n"
     ]
    },
    {
     "name": "stdout",
     "output_type": "stream",
     "text": [
      "Fitted 374 from 758\n",
      "Fitted 375 from 758\n",
      "Fitted 376 from 758\n"
     ]
    },
    {
     "name": "stderr",
     "output_type": "stream",
     "text": [
      "/home/grzegorz/anaconda3/envs/hpc/lib/python3.6/site-packages/statsmodels/base/model.py:512: ConvergenceWarning: Maximum Likelihood optimization failed to converge. Check mle_retvals\n",
      "  \"Check mle_retvals\", ConvergenceWarning)\n"
     ]
    },
    {
     "name": "stdout",
     "output_type": "stream",
     "text": [
      "Fitted 377 from 758\n",
      "Fitted 378 from 758\n",
      "Fitted 379 from 758\n"
     ]
    },
    {
     "name": "stderr",
     "output_type": "stream",
     "text": [
      "/home/grzegorz/anaconda3/envs/hpc/lib/python3.6/site-packages/statsmodels/base/model.py:512: ConvergenceWarning: Maximum Likelihood optimization failed to converge. Check mle_retvals\n",
      "  \"Check mle_retvals\", ConvergenceWarning)\n"
     ]
    },
    {
     "name": "stdout",
     "output_type": "stream",
     "text": [
      "Fitted 380 from 758\n",
      "Fitted 381 from 758\n"
     ]
    },
    {
     "name": "stderr",
     "output_type": "stream",
     "text": [
      "/home/grzegorz/anaconda3/envs/hpc/lib/python3.6/site-packages/statsmodels/base/model.py:512: ConvergenceWarning: Maximum Likelihood optimization failed to converge. Check mle_retvals\n",
      "  \"Check mle_retvals\", ConvergenceWarning)\n"
     ]
    },
    {
     "name": "stdout",
     "output_type": "stream",
     "text": [
      "Fitted 382 from 758\n",
      "Fitted 383 from 758\n",
      "Fitted 384 from 758\n",
      "Fitted 385 from 758\n",
      "Fitted 386 from 758\n",
      "Fitted 387 from 758\n",
      "Fitted 388 from 758\n"
     ]
    },
    {
     "name": "stderr",
     "output_type": "stream",
     "text": [
      "/home/grzegorz/anaconda3/envs/hpc/lib/python3.6/site-packages/statsmodels/base/model.py:512: ConvergenceWarning: Maximum Likelihood optimization failed to converge. Check mle_retvals\n",
      "  \"Check mle_retvals\", ConvergenceWarning)\n"
     ]
    },
    {
     "name": "stdout",
     "output_type": "stream",
     "text": [
      "Fitted 389 from 758\n",
      "Fitted 390 from 758\n",
      "Fitted 391 from 758\n",
      "Fitted 392 from 758\n",
      "Fitted 393 from 758\n",
      "Fitted 394 from 758\n",
      "Fitted 395 from 758\n",
      "Fitted 396 from 758\n",
      "Fitted 397 from 758\n",
      "Fitted 398 from 758\n",
      "Fitted 399 from 758\n",
      "Fitted 400 from 758\n",
      "Fitted 401 from 758\n",
      "Fitted 402 from 758\n",
      "Fitted 403 from 758\n",
      "Fitted 404 from 758\n",
      "Fitted 405 from 758\n",
      "Fitted 406 from 758\n",
      "Fitted 407 from 758\n"
     ]
    },
    {
     "name": "stderr",
     "output_type": "stream",
     "text": [
      "/home/grzegorz/anaconda3/envs/hpc/lib/python3.6/site-packages/statsmodels/base/model.py:512: ConvergenceWarning: Maximum Likelihood optimization failed to converge. Check mle_retvals\n",
      "  \"Check mle_retvals\", ConvergenceWarning)\n"
     ]
    },
    {
     "name": "stdout",
     "output_type": "stream",
     "text": [
      "Fitted 408 from 758\n",
      "Fitted 409 from 758\n",
      "Fitted 410 from 758\n",
      "Fitted 411 from 758\n",
      "Fitted 412 from 758\n",
      "Fitted 413 from 758\n",
      "Fitted 414 from 758\n",
      "Fitted 415 from 758\n",
      "Fitted 416 from 758\n",
      "Fitted 417 from 758\n",
      "Fitted 418 from 758\n",
      "Fitted 419 from 758\n",
      "Fitted 420 from 758\n",
      "Fitted 421 from 758\n",
      "Fitted 422 from 758\n",
      "Fitted 423 from 758\n",
      "Fitted 424 from 758\n",
      "Fitted 425 from 758\n",
      "Fitted 426 from 758\n",
      "Fitted 427 from 758\n",
      "Fitted 428 from 758\n",
      "Fitted 429 from 758\n",
      "Fitted 430 from 758\n",
      "Fitted 431 from 758\n",
      "Fitted 432 from 758\n",
      "Fitted 433 from 758\n",
      "Fitted 434 from 758\n",
      "Fitted 435 from 758\n",
      "Fitted 436 from 758\n",
      "Fitted 437 from 758\n",
      "Fitted 438 from 758\n"
     ]
    },
    {
     "name": "stderr",
     "output_type": "stream",
     "text": [
      "/home/grzegorz/anaconda3/envs/hpc/lib/python3.6/site-packages/statsmodels/base/model.py:512: ConvergenceWarning: Maximum Likelihood optimization failed to converge. Check mle_retvals\n",
      "  \"Check mle_retvals\", ConvergenceWarning)\n"
     ]
    },
    {
     "name": "stdout",
     "output_type": "stream",
     "text": [
      "Fitted 439 from 758\n",
      "Fitted 440 from 758\n",
      "Fitted 441 from 758\n",
      "Fitted 442 from 758\n",
      "Fitted 443 from 758\n",
      "Fitted 444 from 758\n",
      "Fitted 445 from 758\n",
      "Fitted 446 from 758\n",
      "Fitted 447 from 758\n",
      "Fitted 448 from 758\n",
      "Fitted 449 from 758\n",
      "Fitted 450 from 758\n",
      "Fitted 451 from 758\n",
      "Fitted 452 from 758\n",
      "Fitted 453 from 758\n",
      "Fitted 454 from 758\n",
      "Fitted 455 from 758\n",
      "Fitted 456 from 758\n",
      "Fitted 457 from 758\n",
      "Fitted 458 from 758\n"
     ]
    },
    {
     "name": "stderr",
     "output_type": "stream",
     "text": [
      "/home/grzegorz/anaconda3/envs/hpc/lib/python3.6/site-packages/statsmodels/base/model.py:512: ConvergenceWarning: Maximum Likelihood optimization failed to converge. Check mle_retvals\n",
      "  \"Check mle_retvals\", ConvergenceWarning)\n"
     ]
    },
    {
     "name": "stdout",
     "output_type": "stream",
     "text": [
      "Fitted 459 from 758\n",
      "Fitted 460 from 758\n",
      "Fitted 461 from 758\n",
      "Fitted 462 from 758\n",
      "Fitted 463 from 758\n",
      "Fitted 464 from 758\n",
      "Fitted 465 from 758\n",
      "Fitted 466 from 758\n",
      "Fitted 467 from 758\n"
     ]
    },
    {
     "name": "stderr",
     "output_type": "stream",
     "text": [
      "/home/grzegorz/anaconda3/envs/hpc/lib/python3.6/site-packages/statsmodels/base/model.py:512: ConvergenceWarning: Maximum Likelihood optimization failed to converge. Check mle_retvals\n",
      "  \"Check mle_retvals\", ConvergenceWarning)\n"
     ]
    },
    {
     "name": "stdout",
     "output_type": "stream",
     "text": [
      "Fitted 468 from 758\n"
     ]
    },
    {
     "name": "stderr",
     "output_type": "stream",
     "text": [
      "/home/grzegorz/anaconda3/envs/hpc/lib/python3.6/site-packages/statsmodels/base/model.py:512: ConvergenceWarning: Maximum Likelihood optimization failed to converge. Check mle_retvals\n",
      "  \"Check mle_retvals\", ConvergenceWarning)\n"
     ]
    },
    {
     "name": "stdout",
     "output_type": "stream",
     "text": [
      "Fitted 469 from 758\n",
      "Fitted 470 from 758\n",
      "Fitted 471 from 758\n",
      "Fitted 472 from 758\n",
      "Fitted 473 from 758\n",
      "Fitted 474 from 758\n",
      "Fitted 475 from 758\n",
      "Fitted 476 from 758\n",
      "Fitted 477 from 758\n"
     ]
    },
    {
     "name": "stderr",
     "output_type": "stream",
     "text": [
      "/home/grzegorz/anaconda3/envs/hpc/lib/python3.6/site-packages/statsmodels/base/model.py:512: ConvergenceWarning: Maximum Likelihood optimization failed to converge. Check mle_retvals\n",
      "  \"Check mle_retvals\", ConvergenceWarning)\n"
     ]
    },
    {
     "name": "stdout",
     "output_type": "stream",
     "text": [
      "Fitted 478 from 758\n",
      "Fitted 479 from 758\n",
      "Fitted 480 from 758\n",
      "Fitted 481 from 758\n"
     ]
    },
    {
     "name": "stderr",
     "output_type": "stream",
     "text": [
      "/home/grzegorz/anaconda3/envs/hpc/lib/python3.6/site-packages/statsmodels/base/model.py:512: ConvergenceWarning: Maximum Likelihood optimization failed to converge. Check mle_retvals\n",
      "  \"Check mle_retvals\", ConvergenceWarning)\n"
     ]
    },
    {
     "name": "stdout",
     "output_type": "stream",
     "text": [
      "Fitted 482 from 758\n",
      "Fitted 483 from 758\n",
      "Fitted 484 from 758\n",
      "Fitted 485 from 758\n",
      "Fitted 486 from 758\n",
      "Fitted 487 from 758\n",
      "Fitted 488 from 758\n",
      "Fitted 489 from 758\n",
      "Fitted 490 from 758\n",
      "Fitted 491 from 758\n",
      "Fitted 492 from 758\n"
     ]
    },
    {
     "name": "stderr",
     "output_type": "stream",
     "text": [
      "/home/grzegorz/anaconda3/envs/hpc/lib/python3.6/site-packages/statsmodels/base/model.py:512: ConvergenceWarning: Maximum Likelihood optimization failed to converge. Check mle_retvals\n",
      "  \"Check mle_retvals\", ConvergenceWarning)\n"
     ]
    },
    {
     "name": "stdout",
     "output_type": "stream",
     "text": [
      "Fitted 493 from 758\n",
      "Fitted 494 from 758\n",
      "Fitted 495 from 758\n",
      "Fitted 496 from 758\n",
      "Fitted 497 from 758\n",
      "Fitted 498 from 758\n"
     ]
    },
    {
     "name": "stderr",
     "output_type": "stream",
     "text": [
      "/home/grzegorz/anaconda3/envs/hpc/lib/python3.6/site-packages/statsmodels/base/model.py:512: ConvergenceWarning: Maximum Likelihood optimization failed to converge. Check mle_retvals\n",
      "  \"Check mle_retvals\", ConvergenceWarning)\n"
     ]
    },
    {
     "name": "stdout",
     "output_type": "stream",
     "text": [
      "Fitted 499 from 758\n",
      "Fitted 500 from 758\n",
      "Fitted 501 from 758\n"
     ]
    },
    {
     "name": "stderr",
     "output_type": "stream",
     "text": [
      "/home/grzegorz/anaconda3/envs/hpc/lib/python3.6/site-packages/statsmodels/base/model.py:512: ConvergenceWarning: Maximum Likelihood optimization failed to converge. Check mle_retvals\n",
      "  \"Check mle_retvals\", ConvergenceWarning)\n"
     ]
    },
    {
     "name": "stdout",
     "output_type": "stream",
     "text": [
      "Fitted 502 from 758\n",
      "Fitted 503 from 758\n",
      "Fitted 504 from 758\n"
     ]
    },
    {
     "name": "stderr",
     "output_type": "stream",
     "text": [
      "/home/grzegorz/anaconda3/envs/hpc/lib/python3.6/site-packages/statsmodels/base/model.py:512: ConvergenceWarning: Maximum Likelihood optimization failed to converge. Check mle_retvals\n",
      "  \"Check mle_retvals\", ConvergenceWarning)\n"
     ]
    },
    {
     "name": "stdout",
     "output_type": "stream",
     "text": [
      "Fitted 505 from 758\n"
     ]
    },
    {
     "name": "stderr",
     "output_type": "stream",
     "text": [
      "/home/grzegorz/anaconda3/envs/hpc/lib/python3.6/site-packages/statsmodels/base/model.py:512: ConvergenceWarning: Maximum Likelihood optimization failed to converge. Check mle_retvals\n",
      "  \"Check mle_retvals\", ConvergenceWarning)\n"
     ]
    },
    {
     "name": "stdout",
     "output_type": "stream",
     "text": [
      "Fitted 506 from 758\n",
      "Fitted 507 from 758\n"
     ]
    },
    {
     "name": "stderr",
     "output_type": "stream",
     "text": [
      "/home/grzegorz/anaconda3/envs/hpc/lib/python3.6/site-packages/statsmodels/base/model.py:512: ConvergenceWarning: Maximum Likelihood optimization failed to converge. Check mle_retvals\n",
      "  \"Check mle_retvals\", ConvergenceWarning)\n"
     ]
    },
    {
     "name": "stdout",
     "output_type": "stream",
     "text": [
      "Fitted 508 from 758\n",
      "Fitted 509 from 758\n",
      "Fitted 510 from 758\n",
      "Fitted 511 from 758\n"
     ]
    },
    {
     "name": "stderr",
     "output_type": "stream",
     "text": [
      "/home/grzegorz/anaconda3/envs/hpc/lib/python3.6/site-packages/statsmodels/base/model.py:512: ConvergenceWarning: Maximum Likelihood optimization failed to converge. Check mle_retvals\n",
      "  \"Check mle_retvals\", ConvergenceWarning)\n"
     ]
    },
    {
     "name": "stdout",
     "output_type": "stream",
     "text": [
      "Fitted 512 from 758\n",
      "Fitted 513 from 758\n",
      "Fitted 514 from 758\n",
      "Fitted 515 from 758\n",
      "Fitted 516 from 758\n",
      "Fitted 517 from 758\n",
      "Fitted 518 from 758\n",
      "Fitted 519 from 758\n"
     ]
    },
    {
     "name": "stderr",
     "output_type": "stream",
     "text": [
      "/home/grzegorz/anaconda3/envs/hpc/lib/python3.6/site-packages/statsmodels/base/model.py:512: ConvergenceWarning: Maximum Likelihood optimization failed to converge. Check mle_retvals\n",
      "  \"Check mle_retvals\", ConvergenceWarning)\n"
     ]
    },
    {
     "name": "stdout",
     "output_type": "stream",
     "text": [
      "Fitted 520 from 758\n",
      "Fitted 521 from 758\n",
      "Fitted 522 from 758\n",
      "Fitted 523 from 758\n",
      "Fitted 524 from 758\n",
      "Fitted 525 from 758\n",
      "Fitted 526 from 758\n",
      "Fitted 527 from 758\n",
      "Fitted 528 from 758\n",
      "Fitted 529 from 758\n"
     ]
    },
    {
     "name": "stderr",
     "output_type": "stream",
     "text": [
      "/home/grzegorz/anaconda3/envs/hpc/lib/python3.6/site-packages/statsmodels/base/model.py:512: ConvergenceWarning: Maximum Likelihood optimization failed to converge. Check mle_retvals\n",
      "  \"Check mle_retvals\", ConvergenceWarning)\n"
     ]
    },
    {
     "name": "stdout",
     "output_type": "stream",
     "text": [
      "Fitted 530 from 758\n",
      "Fitted 531 from 758\n",
      "Fitted 532 from 758\n",
      "Fitted 533 from 758\n",
      "Fitted 534 from 758\n",
      "Fitted 535 from 758\n",
      "Fitted 536 from 758\n",
      "Fitted 537 from 758\n",
      "Fitted 538 from 758\n",
      "Fitted 539 from 758\n",
      "Fitted 540 from 758\n"
     ]
    },
    {
     "name": "stderr",
     "output_type": "stream",
     "text": [
      "/home/grzegorz/anaconda3/envs/hpc/lib/python3.6/site-packages/statsmodels/base/model.py:512: ConvergenceWarning: Maximum Likelihood optimization failed to converge. Check mle_retvals\n",
      "  \"Check mle_retvals\", ConvergenceWarning)\n"
     ]
    },
    {
     "name": "stdout",
     "output_type": "stream",
     "text": [
      "Fitted 541 from 758\n",
      "Fitted 542 from 758\n",
      "Fitted 543 from 758\n",
      "Fitted 544 from 758\n",
      "Fitted 545 from 758\n",
      "Fitted 546 from 758\n",
      "Fitted 547 from 758\n",
      "Fitted 548 from 758\n",
      "Fitted 549 from 758\n",
      "Fitted 550 from 758\n",
      "Fitted 551 from 758\n",
      "Fitted 552 from 758\n",
      "Fitted 553 from 758\n",
      "Fitted 554 from 758\n",
      "Fitted 555 from 758\n",
      "Fitted 556 from 758\n",
      "Fitted 557 from 758\n",
      "Fitted 558 from 758\n",
      "Fitted 559 from 758\n"
     ]
    },
    {
     "name": "stderr",
     "output_type": "stream",
     "text": [
      "/home/grzegorz/anaconda3/envs/hpc/lib/python3.6/site-packages/statsmodels/base/model.py:512: ConvergenceWarning: Maximum Likelihood optimization failed to converge. Check mle_retvals\n",
      "  \"Check mle_retvals\", ConvergenceWarning)\n"
     ]
    },
    {
     "name": "stdout",
     "output_type": "stream",
     "text": [
      "Fitted 560 from 758\n",
      "Fitted 561 from 758\n",
      "Fitted 562 from 758\n"
     ]
    },
    {
     "name": "stderr",
     "output_type": "stream",
     "text": [
      "/home/grzegorz/anaconda3/envs/hpc/lib/python3.6/site-packages/statsmodels/base/model.py:512: ConvergenceWarning: Maximum Likelihood optimization failed to converge. Check mle_retvals\n",
      "  \"Check mle_retvals\", ConvergenceWarning)\n"
     ]
    },
    {
     "name": "stdout",
     "output_type": "stream",
     "text": [
      "Fitted 563 from 758\n",
      "Fitted 564 from 758\n",
      "Fitted 565 from 758\n",
      "Fitted 566 from 758\n",
      "Fitted 567 from 758\n",
      "Fitted 568 from 758\n"
     ]
    },
    {
     "name": "stderr",
     "output_type": "stream",
     "text": [
      "/home/grzegorz/anaconda3/envs/hpc/lib/python3.6/site-packages/statsmodels/base/model.py:512: ConvergenceWarning: Maximum Likelihood optimization failed to converge. Check mle_retvals\n",
      "  \"Check mle_retvals\", ConvergenceWarning)\n"
     ]
    },
    {
     "name": "stdout",
     "output_type": "stream",
     "text": [
      "Fitted 569 from 758\n"
     ]
    },
    {
     "name": "stderr",
     "output_type": "stream",
     "text": [
      "/home/grzegorz/anaconda3/envs/hpc/lib/python3.6/site-packages/statsmodels/base/model.py:512: ConvergenceWarning: Maximum Likelihood optimization failed to converge. Check mle_retvals\n",
      "  \"Check mle_retvals\", ConvergenceWarning)\n"
     ]
    },
    {
     "name": "stdout",
     "output_type": "stream",
     "text": [
      "Fitted 570 from 758\n",
      "Fitted 571 from 758\n",
      "Fitted 572 from 758\n",
      "Fitted 573 from 758\n",
      "Fitted 574 from 758\n",
      "Fitted 575 from 758\n",
      "Fitted 576 from 758\n",
      "Fitted 577 from 758\n",
      "Fitted 578 from 758\n",
      "Fitted 579 from 758\n",
      "Fitted 580 from 758\n",
      "Fitted 581 from 758\n"
     ]
    },
    {
     "name": "stderr",
     "output_type": "stream",
     "text": [
      "/home/grzegorz/anaconda3/envs/hpc/lib/python3.6/site-packages/statsmodels/base/model.py:512: ConvergenceWarning: Maximum Likelihood optimization failed to converge. Check mle_retvals\n",
      "  \"Check mle_retvals\", ConvergenceWarning)\n"
     ]
    },
    {
     "name": "stdout",
     "output_type": "stream",
     "text": [
      "Fitted 582 from 758\n",
      "Fitted 583 from 758\n",
      "Fitted 584 from 758\n",
      "Fitted 585 from 758\n",
      "Fitted 586 from 758\n",
      "Fitted 587 from 758\n",
      "Fitted 588 from 758\n",
      "Fitted 589 from 758\n",
      "Fitted 590 from 758\n"
     ]
    },
    {
     "name": "stderr",
     "output_type": "stream",
     "text": [
      "/home/grzegorz/anaconda3/envs/hpc/lib/python3.6/site-packages/statsmodels/base/model.py:512: ConvergenceWarning: Maximum Likelihood optimization failed to converge. Check mle_retvals\n",
      "  \"Check mle_retvals\", ConvergenceWarning)\n"
     ]
    },
    {
     "name": "stdout",
     "output_type": "stream",
     "text": [
      "Fitted 591 from 758\n",
      "Fitted 592 from 758\n",
      "Fitted 593 from 758\n",
      "Fitted 594 from 758\n"
     ]
    },
    {
     "name": "stderr",
     "output_type": "stream",
     "text": [
      "/home/grzegorz/anaconda3/envs/hpc/lib/python3.6/site-packages/statsmodels/base/model.py:512: ConvergenceWarning: Maximum Likelihood optimization failed to converge. Check mle_retvals\n",
      "  \"Check mle_retvals\", ConvergenceWarning)\n"
     ]
    },
    {
     "name": "stdout",
     "output_type": "stream",
     "text": [
      "Fitted 595 from 758\n",
      "Fitted 596 from 758\n",
      "Fitted 597 from 758\n",
      "Fitted 598 from 758\n"
     ]
    },
    {
     "name": "stderr",
     "output_type": "stream",
     "text": [
      "/home/grzegorz/anaconda3/envs/hpc/lib/python3.6/site-packages/statsmodels/base/model.py:512: ConvergenceWarning: Maximum Likelihood optimization failed to converge. Check mle_retvals\n",
      "  \"Check mle_retvals\", ConvergenceWarning)\n"
     ]
    },
    {
     "name": "stdout",
     "output_type": "stream",
     "text": [
      "Fitted 599 from 758\n",
      "Fitted 600 from 758\n",
      "Fitted 601 from 758\n",
      "Fitted 602 from 758\n",
      "Fitted 603 from 758\n",
      "Fitted 604 from 758\n",
      "Fitted 605 from 758\n",
      "Fitted 606 from 758\n",
      "Fitted 607 from 758\n",
      "Fitted 608 from 758\n",
      "Fitted 609 from 758\n",
      "Fitted 610 from 758\n",
      "Fitted 611 from 758\n",
      "Fitted 612 from 758\n",
      "Fitted 613 from 758\n",
      "Fitted 614 from 758\n",
      "Fitted 615 from 758\n",
      "Fitted 616 from 758\n",
      "Fitted 617 from 758\n",
      "Fitted 618 from 758\n",
      "Fitted 619 from 758\n"
     ]
    },
    {
     "name": "stderr",
     "output_type": "stream",
     "text": [
      "/home/grzegorz/anaconda3/envs/hpc/lib/python3.6/site-packages/statsmodels/base/model.py:512: ConvergenceWarning: Maximum Likelihood optimization failed to converge. Check mle_retvals\n",
      "  \"Check mle_retvals\", ConvergenceWarning)\n"
     ]
    },
    {
     "name": "stdout",
     "output_type": "stream",
     "text": [
      "Fitted 620 from 758\n",
      "Fitted 621 from 758\n",
      "Fitted 622 from 758\n",
      "Fitted 623 from 758\n",
      "Fitted 624 from 758\n",
      "Fitted 625 from 758\n"
     ]
    },
    {
     "name": "stderr",
     "output_type": "stream",
     "text": [
      "/home/grzegorz/anaconda3/envs/hpc/lib/python3.6/site-packages/statsmodels/base/model.py:512: ConvergenceWarning: Maximum Likelihood optimization failed to converge. Check mle_retvals\n",
      "  \"Check mle_retvals\", ConvergenceWarning)\n"
     ]
    },
    {
     "name": "stdout",
     "output_type": "stream",
     "text": [
      "Fitted 626 from 758\n",
      "Fitted 627 from 758\n",
      "Fitted 628 from 758\n",
      "Fitted 629 from 758\n"
     ]
    },
    {
     "name": "stderr",
     "output_type": "stream",
     "text": [
      "/home/grzegorz/anaconda3/envs/hpc/lib/python3.6/site-packages/statsmodels/base/model.py:512: ConvergenceWarning: Maximum Likelihood optimization failed to converge. Check mle_retvals\n",
      "  \"Check mle_retvals\", ConvergenceWarning)\n"
     ]
    },
    {
     "name": "stdout",
     "output_type": "stream",
     "text": [
      "Fitted 630 from 758\n",
      "Fitted 631 from 758\n",
      "Fitted 632 from 758\n",
      "Fitted 633 from 758\n",
      "Fitted 634 from 758\n",
      "Fitted 635 from 758\n",
      "Fitted 636 from 758\n",
      "Fitted 637 from 758\n",
      "Fitted 638 from 758\n",
      "Fitted 639 from 758\n",
      "Fitted 640 from 758\n",
      "Fitted 641 from 758\n",
      "Fitted 642 from 758\n",
      "Fitted 643 from 758\n",
      "Fitted 644 from 758\n",
      "Fitted 645 from 758\n",
      "Fitted 646 from 758\n",
      "Fitted 647 from 758\n",
      "Fitted 648 from 758\n"
     ]
    },
    {
     "name": "stderr",
     "output_type": "stream",
     "text": [
      "/home/grzegorz/anaconda3/envs/hpc/lib/python3.6/site-packages/statsmodels/base/model.py:512: ConvergenceWarning: Maximum Likelihood optimization failed to converge. Check mle_retvals\n",
      "  \"Check mle_retvals\", ConvergenceWarning)\n"
     ]
    },
    {
     "name": "stdout",
     "output_type": "stream",
     "text": [
      "Fitted 649 from 758\n",
      "Fitted 650 from 758\n",
      "Fitted 651 from 758\n",
      "Fitted 652 from 758\n",
      "Fitted 653 from 758\n",
      "Fitted 654 from 758\n",
      "Fitted 655 from 758\n",
      "Fitted 656 from 758\n"
     ]
    },
    {
     "name": "stderr",
     "output_type": "stream",
     "text": [
      "/home/grzegorz/anaconda3/envs/hpc/lib/python3.6/site-packages/statsmodels/base/model.py:512: ConvergenceWarning: Maximum Likelihood optimization failed to converge. Check mle_retvals\n",
      "  \"Check mle_retvals\", ConvergenceWarning)\n"
     ]
    },
    {
     "name": "stdout",
     "output_type": "stream",
     "text": [
      "Fitted 657 from 758\n",
      "Fitted 658 from 758\n",
      "Fitted 659 from 758\n"
     ]
    },
    {
     "name": "stderr",
     "output_type": "stream",
     "text": [
      "/home/grzegorz/anaconda3/envs/hpc/lib/python3.6/site-packages/statsmodels/base/model.py:512: ConvergenceWarning: Maximum Likelihood optimization failed to converge. Check mle_retvals\n",
      "  \"Check mle_retvals\", ConvergenceWarning)\n"
     ]
    },
    {
     "name": "stdout",
     "output_type": "stream",
     "text": [
      "Fitted 660 from 758\n",
      "Fitted 661 from 758\n",
      "Fitted 662 from 758\n"
     ]
    },
    {
     "name": "stderr",
     "output_type": "stream",
     "text": [
      "/home/grzegorz/anaconda3/envs/hpc/lib/python3.6/site-packages/statsmodels/base/model.py:512: ConvergenceWarning: Maximum Likelihood optimization failed to converge. Check mle_retvals\n",
      "  \"Check mle_retvals\", ConvergenceWarning)\n"
     ]
    },
    {
     "name": "stdout",
     "output_type": "stream",
     "text": [
      "Fitted 663 from 758\n"
     ]
    },
    {
     "name": "stderr",
     "output_type": "stream",
     "text": [
      "/home/grzegorz/anaconda3/envs/hpc/lib/python3.6/site-packages/statsmodels/base/model.py:512: ConvergenceWarning: Maximum Likelihood optimization failed to converge. Check mle_retvals\n",
      "  \"Check mle_retvals\", ConvergenceWarning)\n"
     ]
    },
    {
     "name": "stdout",
     "output_type": "stream",
     "text": [
      "Fitted 664 from 758\n",
      "Fitted 665 from 758\n"
     ]
    },
    {
     "name": "stderr",
     "output_type": "stream",
     "text": [
      "/home/grzegorz/anaconda3/envs/hpc/lib/python3.6/site-packages/statsmodels/base/model.py:512: ConvergenceWarning: Maximum Likelihood optimization failed to converge. Check mle_retvals\n",
      "  \"Check mle_retvals\", ConvergenceWarning)\n"
     ]
    },
    {
     "name": "stdout",
     "output_type": "stream",
     "text": [
      "Fitted 666 from 758\n",
      "Fitted 667 from 758\n",
      "Fitted 668 from 758\n",
      "Fitted 669 from 758\n"
     ]
    },
    {
     "name": "stderr",
     "output_type": "stream",
     "text": [
      "/home/grzegorz/anaconda3/envs/hpc/lib/python3.6/site-packages/statsmodels/base/model.py:512: ConvergenceWarning: Maximum Likelihood optimization failed to converge. Check mle_retvals\n",
      "  \"Check mle_retvals\", ConvergenceWarning)\n"
     ]
    },
    {
     "name": "stdout",
     "output_type": "stream",
     "text": [
      "Fitted 670 from 758\n",
      "Fitted 671 from 758\n"
     ]
    },
    {
     "name": "stderr",
     "output_type": "stream",
     "text": [
      "/home/grzegorz/anaconda3/envs/hpc/lib/python3.6/site-packages/statsmodels/base/model.py:512: ConvergenceWarning: Maximum Likelihood optimization failed to converge. Check mle_retvals\n",
      "  \"Check mle_retvals\", ConvergenceWarning)\n"
     ]
    },
    {
     "name": "stdout",
     "output_type": "stream",
     "text": [
      "Fitted 672 from 758\n",
      "Fitted 673 from 758\n",
      "Fitted 674 from 758\n",
      "Fitted 675 from 758\n"
     ]
    },
    {
     "name": "stderr",
     "output_type": "stream",
     "text": [
      "/home/grzegorz/anaconda3/envs/hpc/lib/python3.6/site-packages/statsmodels/base/model.py:512: ConvergenceWarning: Maximum Likelihood optimization failed to converge. Check mle_retvals\n",
      "  \"Check mle_retvals\", ConvergenceWarning)\n"
     ]
    },
    {
     "name": "stdout",
     "output_type": "stream",
     "text": [
      "Fitted 676 from 758\n",
      "Fitted 677 from 758\n",
      "Fitted 678 from 758\n",
      "Fitted 679 from 758\n",
      "Fitted 680 from 758\n",
      "Fitted 681 from 758\n",
      "Fitted 682 from 758\n",
      "Fitted 683 from 758\n"
     ]
    },
    {
     "name": "stderr",
     "output_type": "stream",
     "text": [
      "/home/grzegorz/anaconda3/envs/hpc/lib/python3.6/site-packages/statsmodels/base/model.py:512: ConvergenceWarning: Maximum Likelihood optimization failed to converge. Check mle_retvals\n",
      "  \"Check mle_retvals\", ConvergenceWarning)\n"
     ]
    },
    {
     "name": "stdout",
     "output_type": "stream",
     "text": [
      "Fitted 684 from 758\n",
      "Fitted 685 from 758\n",
      "Fitted 686 from 758\n"
     ]
    },
    {
     "name": "stderr",
     "output_type": "stream",
     "text": [
      "/home/grzegorz/anaconda3/envs/hpc/lib/python3.6/site-packages/statsmodels/base/model.py:512: ConvergenceWarning: Maximum Likelihood optimization failed to converge. Check mle_retvals\n",
      "  \"Check mle_retvals\", ConvergenceWarning)\n"
     ]
    },
    {
     "name": "stdout",
     "output_type": "stream",
     "text": [
      "Fitted 687 from 758\n",
      "Fitted 688 from 758\n",
      "Fitted 689 from 758\n",
      "Fitted 690 from 758\n",
      "Fitted 691 from 758\n",
      "Fitted 692 from 758\n",
      "Fitted 693 from 758\n",
      "Fitted 694 from 758\n",
      "Fitted 695 from 758\n"
     ]
    },
    {
     "name": "stderr",
     "output_type": "stream",
     "text": [
      "/home/grzegorz/anaconda3/envs/hpc/lib/python3.6/site-packages/statsmodels/base/model.py:512: ConvergenceWarning: Maximum Likelihood optimization failed to converge. Check mle_retvals\n",
      "  \"Check mle_retvals\", ConvergenceWarning)\n"
     ]
    },
    {
     "name": "stdout",
     "output_type": "stream",
     "text": [
      "Fitted 696 from 758\n",
      "Fitted 697 from 758\n",
      "Fitted 698 from 758\n"
     ]
    },
    {
     "name": "stderr",
     "output_type": "stream",
     "text": [
      "/home/grzegorz/anaconda3/envs/hpc/lib/python3.6/site-packages/statsmodels/base/model.py:512: ConvergenceWarning: Maximum Likelihood optimization failed to converge. Check mle_retvals\n",
      "  \"Check mle_retvals\", ConvergenceWarning)\n"
     ]
    },
    {
     "name": "stdout",
     "output_type": "stream",
     "text": [
      "Fitted 699 from 758\n"
     ]
    },
    {
     "name": "stderr",
     "output_type": "stream",
     "text": [
      "/home/grzegorz/anaconda3/envs/hpc/lib/python3.6/site-packages/statsmodels/base/model.py:512: ConvergenceWarning: Maximum Likelihood optimization failed to converge. Check mle_retvals\n",
      "  \"Check mle_retvals\", ConvergenceWarning)\n"
     ]
    },
    {
     "name": "stdout",
     "output_type": "stream",
     "text": [
      "Fitted 700 from 758\n",
      "Fitted 701 from 758\n",
      "Fitted 702 from 758\n",
      "Fitted 703 from 758\n",
      "Fitted 704 from 758\n",
      "Fitted 705 from 758\n",
      "Fitted 706 from 758\n",
      "Fitted 707 from 758\n",
      "Fitted 708 from 758\n",
      "Fitted 709 from 758\n"
     ]
    },
    {
     "name": "stderr",
     "output_type": "stream",
     "text": [
      "/home/grzegorz/anaconda3/envs/hpc/lib/python3.6/site-packages/statsmodels/base/model.py:512: ConvergenceWarning: Maximum Likelihood optimization failed to converge. Check mle_retvals\n",
      "  \"Check mle_retvals\", ConvergenceWarning)\n"
     ]
    },
    {
     "name": "stdout",
     "output_type": "stream",
     "text": [
      "Fitted 710 from 758\n",
      "Fitted 711 from 758\n",
      "Fitted 712 from 758\n",
      "Fitted 713 from 758\n"
     ]
    },
    {
     "name": "stderr",
     "output_type": "stream",
     "text": [
      "/home/grzegorz/anaconda3/envs/hpc/lib/python3.6/site-packages/statsmodels/base/model.py:512: ConvergenceWarning: Maximum Likelihood optimization failed to converge. Check mle_retvals\n",
      "  \"Check mle_retvals\", ConvergenceWarning)\n"
     ]
    },
    {
     "name": "stdout",
     "output_type": "stream",
     "text": [
      "Fitted 714 from 758\n",
      "Fitted 715 from 758\n",
      "Fitted 716 from 758\n",
      "Fitted 717 from 758\n",
      "Fitted 718 from 758\n",
      "Fitted 719 from 758\n",
      "Fitted 720 from 758\n",
      "Fitted 721 from 758\n",
      "Fitted 722 from 758\n"
     ]
    },
    {
     "name": "stderr",
     "output_type": "stream",
     "text": [
      "/home/grzegorz/anaconda3/envs/hpc/lib/python3.6/site-packages/statsmodels/base/model.py:512: ConvergenceWarning: Maximum Likelihood optimization failed to converge. Check mle_retvals\n",
      "  \"Check mle_retvals\", ConvergenceWarning)\n"
     ]
    },
    {
     "name": "stdout",
     "output_type": "stream",
     "text": [
      "Fitted 723 from 758\n",
      "Fitted 724 from 758\n",
      "Fitted 725 from 758\n",
      "Fitted 726 from 758\n",
      "Fitted 727 from 758\n"
     ]
    },
    {
     "name": "stderr",
     "output_type": "stream",
     "text": [
      "/home/grzegorz/anaconda3/envs/hpc/lib/python3.6/site-packages/statsmodels/base/model.py:512: ConvergenceWarning: Maximum Likelihood optimization failed to converge. Check mle_retvals\n",
      "  \"Check mle_retvals\", ConvergenceWarning)\n"
     ]
    },
    {
     "name": "stdout",
     "output_type": "stream",
     "text": [
      "Fitted 728 from 758\n",
      "Fitted 729 from 758\n"
     ]
    },
    {
     "name": "stderr",
     "output_type": "stream",
     "text": [
      "/home/grzegorz/anaconda3/envs/hpc/lib/python3.6/site-packages/statsmodels/base/model.py:512: ConvergenceWarning: Maximum Likelihood optimization failed to converge. Check mle_retvals\n",
      "  \"Check mle_retvals\", ConvergenceWarning)\n"
     ]
    },
    {
     "name": "stdout",
     "output_type": "stream",
     "text": [
      "Fitted 730 from 758\n",
      "Fitted 731 from 758\n",
      "Fitted 732 from 758\n",
      "Fitted 733 from 758\n"
     ]
    },
    {
     "name": "stderr",
     "output_type": "stream",
     "text": [
      "/home/grzegorz/anaconda3/envs/hpc/lib/python3.6/site-packages/statsmodels/base/model.py:512: ConvergenceWarning: Maximum Likelihood optimization failed to converge. Check mle_retvals\n",
      "  \"Check mle_retvals\", ConvergenceWarning)\n"
     ]
    },
    {
     "name": "stdout",
     "output_type": "stream",
     "text": [
      "Fitted 734 from 758\n",
      "Fitted 735 from 758\n",
      "Fitted 736 from 758\n",
      "Fitted 737 from 758\n",
      "Fitted 738 from 758\n",
      "Fitted 739 from 758\n",
      "Fitted 740 from 758\n",
      "Fitted 741 from 758\n",
      "Fitted 742 from 758\n",
      "Fitted 743 from 758\n",
      "Fitted 744 from 758\n",
      "Fitted 745 from 758\n",
      "Fitted 746 from 758\n",
      "Fitted 747 from 758\n",
      "Fitted 748 from 758\n",
      "Fitted 749 from 758\n",
      "Fitted 750 from 758\n",
      "Fitted 751 from 758\n",
      "Fitted 752 from 758\n",
      "Fitted 753 from 758\n",
      "Fitted 754 from 758\n",
      "Fitted 755 from 758\n"
     ]
    },
    {
     "name": "stderr",
     "output_type": "stream",
     "text": [
      "/home/grzegorz/anaconda3/envs/hpc/lib/python3.6/site-packages/statsmodels/base/model.py:512: ConvergenceWarning: Maximum Likelihood optimization failed to converge. Check mle_retvals\n",
      "  \"Check mle_retvals\", ConvergenceWarning)\n"
     ]
    },
    {
     "name": "stdout",
     "output_type": "stream",
     "text": [
      "Fitted 756 from 758\n"
     ]
    },
    {
     "name": "stderr",
     "output_type": "stream",
     "text": [
      "/home/grzegorz/anaconda3/envs/hpc/lib/python3.6/site-packages/statsmodels/base/model.py:512: ConvergenceWarning: Maximum Likelihood optimization failed to converge. Check mle_retvals\n",
      "  \"Check mle_retvals\", ConvergenceWarning)\n"
     ]
    },
    {
     "name": "stdout",
     "output_type": "stream",
     "text": [
      "Fitted 757 from 758\n"
     ]
    },
    {
     "name": "stderr",
     "output_type": "stream",
     "text": [
      "/home/grzegorz/anaconda3/envs/hpc/lib/python3.6/site-packages/statsmodels/base/model.py:512: ConvergenceWarning: Maximum Likelihood optimization failed to converge. Check mle_retvals\n",
      "  \"Check mle_retvals\", ConvergenceWarning)\n"
     ]
    },
    {
     "name": "stdout",
     "output_type": "stream",
     "text": [
      "Fitted 758 from 758\n",
      "CPU times: user 13h 15min 4s, sys: 33.9 s, total: 13h 15min 38s\n",
      "Wall time: 2h 12min 38s\n"
     ]
    }
   ],
   "source": [
    "%time arparams, maparams, seasonalarparams, seasonalmaparams = fitSARIMAX(datas, 'PM10', installations_ids, parameters, s)"
   ]
  },
  {
   "cell_type": "code",
   "execution_count": 17,
   "metadata": {},
   "outputs": [],
   "source": [
    "#ray.shutdown()"
   ]
  },
  {
   "cell_type": "code",
   "execution_count": 18,
   "metadata": {},
   "outputs": [],
   "source": [
    "# arparams = [models[models.installations == installation].iloc[0, 1].arparams for installation in installations_ids]\n",
    "# maparams = [models[models.installations == installation].iloc[0, 1].maparams for installation in installations_ids]\n",
    "# seasonalarparams = [models[models.installations == installation].iloc[0, 1].seasonalarparams for installation in installations_ids]\n",
    "# seasonalmaparams = [models[models.installations == installation].iloc[0, 1].seasonalmaparams for installation in installations_ids]"
   ]
  },
  {
   "cell_type": "code",
   "execution_count": 19,
   "metadata": {},
   "outputs": [],
   "source": [
    "coeffs = defaultdict()\n",
    "coeffs['installation'] = installations_ids\n",
    "for i in range(parameters[0]):\n",
    "    coeffs['arparams_' + str(i)] = [arparams[j][i] for j in range(len(arparams))]\n",
    "for i in range(parameters[2]):\n",
    "    coeffs['maparams_' + str(i)] = [maparams[j][i] for j in range(len(maparams))]\n",
    "for i in range(parameters[3]):\n",
    "    coeffs['seasonalarparams_' + str(i)] = [seasonalarparams[j][i] for j in range(len(seasonalarparams))]\n",
    "for i in range(parameters[5]):\n",
    "    coeffs['seasonalmaparams_' + str(i)] = [seasonalmaparams[j][i] for j in range(len(seasonalmaparams))]\n",
    "coeffs = pd.DataFrame(coeffs)\n",
    "coeffs.to_csv('/home/grzegorz/Academia/lectures/Longitudinal_and_Functional_Data_Analysis/models_PM10.csv')"
   ]
  },
  {
   "cell_type": "code",
   "execution_count": 20,
   "metadata": {},
   "outputs": [],
   "source": [
    "scaler = StandardScaler()"
   ]
  },
  {
   "cell_type": "code",
   "execution_count": 21,
   "metadata": {},
   "outputs": [],
   "source": [
    "coeff_np = scaler.fit_transform(np.array(coeffs.iloc[:, 1:]))\n",
    "epss = [2**i for i in range(-5, 5)]"
   ]
  },
  {
   "cell_type": "code",
   "execution_count": 22,
   "metadata": {},
   "outputs": [],
   "source": [
    "clustering = []\n",
    "for eps in epss:\n",
    "    clustering.append(DBSCAN(eps=eps, min_samples=5, algorithm='brute', n_jobs=-1).fit_predict(coeff_np))"
   ]
  },
  {
   "cell_type": "code",
   "execution_count": null,
   "metadata": {},
   "outputs": [],
   "source": []
  }
 ],
 "metadata": {
  "kernelspec": {
   "display_name": "Python 3",
   "language": "python",
   "name": "python3"
  },
  "language_info": {
   "codemirror_mode": {
    "name": "ipython",
    "version": 3
   },
   "file_extension": ".py",
   "mimetype": "text/x-python",
   "name": "python",
   "nbconvert_exporter": "python",
   "pygments_lexer": "ipython3",
   "version": "3.6.10"
  }
 },
 "nbformat": 4,
 "nbformat_minor": 4
}
