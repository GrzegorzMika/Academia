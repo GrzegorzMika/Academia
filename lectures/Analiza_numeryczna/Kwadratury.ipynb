{
 "cells": [
  {
   "cell_type": "code",
   "execution_count": 2,
   "metadata": {},
   "outputs": [],
   "source": [
    "import numpy as np\n",
    "import scipy\n",
    "import matplotlib.pyplot as plt"
   ]
  },
  {
   "cell_type": "code",
   "execution_count": 3,
   "metadata": {},
   "outputs": [],
   "source": [
    "I = 1.0\n",
    "n = 5\n",
    "a = 0.0\n",
    "b = np.pi/2"
   ]
  },
  {
   "cell_type": "code",
   "execution_count": 4,
   "metadata": {},
   "outputs": [],
   "source": [
    "def f(x):\n",
    "    return np.sin(x)"
   ]
  },
  {
   "cell_type": "code",
   "execution_count": 5,
   "metadata": {},
   "outputs": [],
   "source": [
    "def quad_R(f, a, b, n):\n",
    "    mesh = np.linspace(a, b, n)\n",
    "    f_values = f(mesh)\n",
    "    return (b-a)*np.mean(f_values)"
   ]
  },
  {
   "cell_type": "code",
   "execution_count": 20,
   "metadata": {},
   "outputs": [],
   "source": [
    "def quad_R_corrected(f, a, b, n):\n",
    "    mesh = np.linspace(a, b, n)\n",
    "    f_values = f(mesh)\n",
    "    C = float(b-a)/2*float(f(b) - f(a))/n\n",
    "    return (b-a)*np.mean(f_values) + C"
   ]
  },
  {
   "cell_type": "code",
   "execution_count": 21,
   "metadata": {},
   "outputs": [
    {
     "data": {
      "text/plain": [
       "[11, 121, 1331, 14641, 161051, 1771561, 19487171, 214358881]"
      ]
     },
     "execution_count": 21,
     "metadata": {},
     "output_type": "execute_result"
    }
   ],
   "source": [
    "N = [11**i for i in range(1, 9)]\n",
    "N"
   ]
  },
  {
   "cell_type": "code",
   "execution_count": 22,
   "metadata": {},
   "outputs": [
    {
     "name": "stdout",
     "output_type": "stream",
     "text": [
      "n = 11, kwadratura = 0.9786207297, błąd = 0.0213792703\n",
      "n = 121, kwadratura = 0.9982122701, błąd = 0.0017877299\n",
      "n = 1331, kwadratura = 0.9998386503, błąd = 0.0001613497\n",
      "n = 14641, kwadratura = 0.9999853414, błąd = 0.0000146586\n",
      "n = 161051, kwadratura = 0.9999986675, błąd = 0.0000013325\n",
      "n = 1771561, kwadratura = 0.9999998789, błąd = 0.0000001211\n",
      "n = 19487171, kwadratura = 0.9999999890, błąd = 0.0000000110\n",
      "n = 214358881, kwadratura = 0.9999999990, błąd = 0.0000000010\n"
     ]
    }
   ],
   "source": [
    "quad = []\n",
    "err = []\n",
    "for i in range(len(N)):\n",
    "    Q = quad_R(f, a, b, N[i])\n",
    "    quad.append(Q)\n",
    "    ERR = abs(I-Q)\n",
    "    err.append(err)\n",
    "    print(\"n = %.i, kwadratura = %.10f, błąd = %.10f\" % (N[i], Q, ERR))"
   ]
  },
  {
   "cell_type": "code",
   "execution_count": 23,
   "metadata": {},
   "outputs": [
    {
     "name": "stdout",
     "output_type": "stream",
     "text": [
      "1.0000057078856273\n",
      "CPU times: user 5.69 ms, sys: 598 µs, total: 6.29 ms\n",
      "Wall time: 925 µs\n",
      "0.9999978539825323\n",
      "CPU times: user 6.62 ms, sys: 0 ns, total: 6.62 ms\n",
      "Wall time: 1.06 ms\n"
     ]
    }
   ],
   "source": [
    "%time print(quad_R_corrected(f, a, b, 100001))\n",
    "%time print(quad_R(f, a, b, 100001))"
   ]
  },
  {
   "cell_type": "code",
   "execution_count": null,
   "metadata": {},
   "outputs": [],
   "source": []
  }
 ],
 "metadata": {
  "kernelspec": {
   "display_name": "Python 3",
   "language": "python",
   "name": "python3"
  },
  "language_info": {
   "codemirror_mode": {
    "name": "ipython",
    "version": 3
   },
   "file_extension": ".py",
   "mimetype": "text/x-python",
   "name": "python",
   "nbconvert_exporter": "python",
   "pygments_lexer": "ipython3",
   "version": "3.7.4"
  }
 },
 "nbformat": 4,
 "nbformat_minor": 4
}
