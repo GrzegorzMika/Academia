{
 "cells": [
  {
   "cell_type": "code",
   "execution_count": null,
   "metadata": {},
   "outputs": [],
   "source": [
    "from itertools import product\n",
    "import pandas as pd\n",
    "import statsmodels.tsa.statespace.sarimax as sm\n",
    "import numpy as np\n",
    "import ray\n",
    "from numba import jit\n",
    "import os\n",
    "from collections import defaultdict\n",
    "from sklearn.cluster import DBSCAN\n",
    "from sklearn.preprocessing import StandardScaler"
   ]
  },
  {
   "cell_type": "code",
   "execution_count": null,
   "metadata": {},
   "outputs": [],
   "source": [
    "#@ray.remote\n",
    "def fit_sarmiax(data, param, s):\n",
    "    model=sm.SARIMAX(data, order=(param[0], param[1], param[2]),\n",
    "                                            seasonal_order=(param[3], param[4], param[5], s)).fit(disp=-1)\n",
    "    return model"
   ]
  },
  {
   "cell_type": "code",
   "execution_count": null,
   "metadata": {},
   "outputs": [],
   "source": [
    "def optimizeSARIMA(data, parameters_list, s):\n",
    "    \"\"\"\n",
    "        data - data to modelling\n",
    "        parameters_list - list with (p, q, P, Q) tuples\n",
    "        d - integration order in ARIMA model\n",
    "        D - seasonal integration order\n",
    "        s - length of season\n",
    "    \"\"\"\n",
    "   \n",
    "    results = []\n",
    "    params = []\n",
    "    i = 1\n",
    "    for param in parameters_list:\n",
    "        print('Tested {} from {}'.format(i, len(parameter_list)))\n",
    "        i+=1\n",
    "        try:\n",
    "            model= fit_sarmiax(data, param, s)\n",
    "            results.append(model.aic)\n",
    "            params.append(param)\n",
    "        except Exception as err:\n",
    "            continue\n",
    "    #results = ray.get(results)\n",
    "    #aic = [model.aic for model in results]\n",
    "    d = {'aic': results, 'paramters':parameters_list}\n",
    "    result_table = pd.DataFrame(d)\n",
    "    # sort, lower AIC crit -> better\n",
    "    result_table = result_table.sort_values(by='aic', ascending=True).reset_index(drop=True)\n",
    "    return result_table"
   ]
  },
  {
   "cell_type": "code",
   "execution_count": null,
   "metadata": {},
   "outputs": [],
   "source": [
    "def fitSARIMAX(datas, column, installations, parametes, s):\n",
    "    #results = []\n",
    "    arparams = []\n",
    "    maparams = []\n",
    "    seasonalarparams = []\n",
    "    seasonalmaparams = []\n",
    "    i = 1\n",
    "    for installation in installations:\n",
    "        print('Fitted {} from {}'.format(i, len(installations)))\n",
    "        tmp = datas[installation]\n",
    "        model = fit_sarmiax(tmp[column], parameters, s)\n",
    "        arparams.append(model.arparams)\n",
    "        maparams.append(model.maparams)\n",
    "        seasonalarparams.append(0)\n",
    "        #seasonalarparams.append(model.seasonalarparams)\n",
    "        seasonalmaparams.append(model.seasonalmaparams)\n",
    "        #results.append(model)\n",
    "        i+=1\n",
    "    #results = ray.get(results)\n",
    "    #d = {'installations': installations, 'model': results}\n",
    "    return arparams, maparams, seasonalarparams, seasonalmaparams"
   ]
  },
  {
   "cell_type": "code",
   "execution_count": null,
   "metadata": {},
   "outputs": [],
   "source": [
    "def prepare_data(path):\n",
    "    data = pd.read_csv(os.path.join(path, 'airly_data.csv'))\n",
    "    data.start_date = pd.to_datetime(data.start_date)\n",
    "    data = data.sort_values(by='start_date').reset_index(drop=True)\n",
    "    return data"
   ]
  },
  {
   "cell_type": "code",
   "execution_count": null,
   "metadata": {},
   "outputs": [],
   "source": [
    "def fit_data(installation, df):\n",
    "    data = df.copy()\n",
    "    if installation == 'global':\n",
    "        data = data.groupby(data.start_date).mean().drop(['installation_id'], 1).sort_index().reset_index(drop=True)\n",
    "        return data\n",
    "    else:\n",
    "        data = data[data.installation_id == installation].set_index('start_date').sort_index().reset_index(drop=True)\n",
    "        return data"
   ]
  },
  {
   "cell_type": "code",
   "execution_count": null,
   "metadata": {},
   "outputs": [],
   "source": [
    "def installations_data(data, installations):\n",
    "    datas = defaultdict()\n",
    "    for installation in installations:\n",
    "        datas[installation] = fit_data(installation, data)\n",
    "    return datas"
   ]
  },
  {
   "cell_type": "code",
   "execution_count": null,
   "metadata": {},
   "outputs": [],
   "source": [
    "def installations(data):\n",
    "    return data.installation_id.drop_duplicates().tolist()"
   ]
  },
  {
   "cell_type": "code",
   "execution_count": null,
   "metadata": {},
   "outputs": [],
   "source": [
    "#ray.init()"
   ]
  },
  {
   "cell_type": "code",
   "execution_count": null,
   "metadata": {},
   "outputs": [],
   "source": [
    "ps = range(1, 4)\n",
    "ds = range(0, 2)\n",
    "qs = range(0, 3)\n",
    "Ps = range(0, 3)\n",
    "Ds = range(0, 2)\n",
    "Qs = range(0, 3)\n",
    "s =  24\n",
    "# ps = range(1, 2)\n",
    "# ds = range(0, 1)\n",
    "# qs = range(1, 2)\n",
    "# Ps = range(1, 2)\n",
    "# Ds = range(0, 1)\n",
    "# Qs = range(1, 2)\n",
    "# s =  24\n",
    "parameter_list = list(product(ps, ds, qs, Ps, Ds, Qs))\n",
    "len(parameter_list)"
   ]
  },
  {
   "cell_type": "code",
   "execution_count": null,
   "metadata": {},
   "outputs": [],
   "source": [
    "data = prepare_data('/home/grzegorz/Academia/lectures/Longitudinal_and_Functional_Data_Analysis')"
   ]
  },
  {
   "cell_type": "code",
   "execution_count": null,
   "metadata": {},
   "outputs": [],
   "source": [
    "df = fit_data('global', data)"
   ]
  },
  {
   "cell_type": "code",
   "execution_count": null,
   "metadata": {},
   "outputs": [],
   "source": [
    "%time result_table = optimizeSARIMA(df.air_quality_index_value, parameter_list, s)"
   ]
  },
  {
   "cell_type": "code",
   "execution_count": null,
   "metadata": {},
   "outputs": [],
   "source": [
    "parameters = result_table.iloc[0, 1]\n",
    "parameters"
   ]
  },
  {
   "cell_type": "code",
   "execution_count": null,
   "metadata": {},
   "outputs": [],
   "source": [
    "installations_ids = installations(data)\n",
    "#installations_ids = installations_ids[:200]"
   ]
  },
  {
   "cell_type": "code",
   "execution_count": null,
   "metadata": {},
   "outputs": [],
   "source": [
    "datas = installations_data(data, installations_ids)"
   ]
  },
  {
   "cell_type": "code",
   "execution_count": null,
   "metadata": {},
   "outputs": [],
   "source": [
    "%time arparams, maparams, seasonalarparams, seasonalmaparams = fitSARIMAX(datas, 'PM10', installations_ids, parameters, s)"
   ]
  },
  {
   "cell_type": "code",
   "execution_count": null,
   "metadata": {},
   "outputs": [],
   "source": [
    "#ray.shutdown()"
   ]
  },
  {
   "cell_type": "code",
   "execution_count": null,
   "metadata": {},
   "outputs": [],
   "source": [
    "# arparams = [models[models.installations == installation].iloc[0, 1].arparams for installation in installations_ids]\n",
    "# maparams = [models[models.installations == installation].iloc[0, 1].maparams for installation in installations_ids]\n",
    "# seasonalarparams = [models[models.installations == installation].iloc[0, 1].seasonalarparams for installation in installations_ids]\n",
    "# seasonalmaparams = [models[models.installations == installation].iloc[0, 1].seasonalmaparams for installation in installations_ids]"
   ]
  },
  {
   "cell_type": "code",
   "execution_count": null,
   "metadata": {},
   "outputs": [],
   "source": [
    "coeffs = defaultdict()\n",
    "coeffs['installation'] = installations_ids\n",
    "for i in range(parameters[0]):\n",
    "    coeffs['arparams_' + str(i)] = [arparams[j][i] for j in range(len(arparams))]\n",
    "for i in range(parameters[2]):\n",
    "    coeffs['maparams_' + str(i)] = [maparams[j][i] for j in range(len(maparams))]\n",
    "for i in range(parameters[3]):\n",
    "    coeffs['seasonalarparams_' + str(i)] = [seasonalarparams[j][i] for j in range(len(seasonalarparams))]\n",
    "for i in range(parameters[5]):\n",
    "    coeffs['seasonalmaparams_' + str(i)] = [seasonalmaparams[j][i] for j in range(len(seasonalmaparams))]\n",
    "coeffs = pd.DataFrame(coeffs)\n",
    "coeffs.to_csv('/home/grzegorz/Academia/lectures/Longitudinal_and_Functional_Data_Analysis/models.csv')"
   ]
  },
  {
   "cell_type": "code",
   "execution_count": null,
   "metadata": {},
   "outputs": [],
   "source": [
    "scaler = StandardScaler()"
   ]
  },
  {
   "cell_type": "code",
   "execution_count": null,
   "metadata": {},
   "outputs": [],
   "source": [
    "coeff_np = scaler.fit_transform(np.array(coeffs.iloc[:, 1:]))\n",
    "epss = [2**i for i in range(-5, 5)]"
   ]
  },
  {
   "cell_type": "code",
   "execution_count": null,
   "metadata": {},
   "outputs": [],
   "source": [
    "clustering = []\n",
    "for eps in epss:\n",
    "    clustering.append(DBSCAN(eps=eps, min_samples=5, algorithm='brute', n_jobs=-1).fit_predict(coeff_np))"
   ]
  }
 ],
 "metadata": {
  "kernelspec": {
   "display_name": "Python 3",
   "language": "python",
   "name": "python3"
  },
  "language_info": {
   "codemirror_mode": {
    "name": "ipython",
    "version": 3
   },
   "file_extension": ".py",
   "mimetype": "text/x-python",
   "name": "python",
   "nbconvert_exporter": "python",
   "pygments_lexer": "ipython3",
   "version": "3.6.10"
  }
 },
 "nbformat": 4,
 "nbformat_minor": 4
}
